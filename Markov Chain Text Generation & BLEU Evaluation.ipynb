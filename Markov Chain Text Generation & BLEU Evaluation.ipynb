{
 "cells": [
  {
   "cell_type": "markdown",
   "metadata": {
    "application/vnd.databricks.v1+cell": {
     "cellMetadata": {},
     "inputWidgets": {},
     "nuid": "20df31ee-17d0-461e-86dd-8593a2f92779",
     "showTitle": false,
     "tableResultSettingsMap": {},
     "title": ""
    }
   },
   "source": [
    "# Text Generation with Variations of Markov Chains and Evaluating Text Quality with BLEU Scores\n",
    "\n",
    "## Objective\n",
    "This project is presented as a story, starting with text generation using a simple Markov Chain and evaluating its quality. The evaluation is performed by comparing the generated text to a reference text using **BLEU scores**. BLEU is a widely used metric for assessing the quality of machine-generated text, measuring its similarity to a reference text.\n",
    "\n",
    "### Progression of Methods\n",
    "After reviewing the initial BLEU scores, I will aim to improve the scores through transformations of the Markov Chain approach. The steps include:\n",
    "1. **First Markov Chain:**\n",
    "2. **First Markov Chain with a Fallback Method:** .\n",
    "3. **Second Markov Chain:** Enhancing the model with improved n-gram handling.\n",
    "4. **Second Markov Chain with a Fallback Method:**\n",
    "5. **Weighted Random Selection:** Incorporating weighted probabilities, with **fallbacks to bigrams and unigrams**.\n",
    "6. **Final Version:** Eliminating the fallback to unigrams and instead selecting words from the reference text.\n",
    "\n",
    "### Results\n",
    "This project is intended as a demonstration of various text generation and evaluation techniques, rather than a showcase of high-quality generated text. The results are naturally limited by the simplicity of the methods and the relatively small dataset used, especially when compared to the extensive datasets and advanced architectures of modern large language models (LLMs) like ChatGPT. Consequently, the generated text is not expected to match the fluency or coherence of those models.\n",
    "\n",
    "\n",
    "### Data Source\n",
    "The text data used in this project comprises all available books from the *Anne of Green Gables* series by Lucy Maud Montgomery, downloaded from [Project Gutenberg](https://www.gutenberg.org/). Project Gutenberg is an online library of free eBooks.\n",
    "\n",
    "The books were combined into a single TXT file. Since this project is developed on the Databricks platform, the file was converted into a table within the Databricks Catalog.\n",
    "\n"
   ]
  },
  {
   "cell_type": "markdown",
   "metadata": {
    "application/vnd.databricks.v1+cell": {
     "cellMetadata": {},
     "inputWidgets": {},
     "nuid": "eb90e95d-4333-4292-995b-0df4d8e33e70",
     "showTitle": false,
     "tableResultSettingsMap": {},
     "title": ""
    }
   },
   "source": [
    "##Installations\n",
    "Install all required libraries"
   ]
  },
  {
   "cell_type": "code",
   "execution_count": 0,
   "metadata": {
    "application/vnd.databricks.v1+cell": {
     "cellMetadata": {
      "byteLimit": 2048000,
      "rowLimit": 10000
     },
     "inputWidgets": {},
     "nuid": "82e00dcf-7a86-48fc-9d71-44a3df0634e9",
     "showTitle": false,
     "tableResultSettingsMap": {},
     "title": ""
    }
   },
   "outputs": [],
   "source": [
    "!pip install --upgrade pip -q\n",
    "!pip install nltk -q"
   ]
  },
  {
   "cell_type": "code",
   "execution_count": 0,
   "metadata": {
    "application/vnd.databricks.v1+cell": {
     "cellMetadata": {
      "byteLimit": 2048000,
      "rowLimit": 10000
     },
     "inputWidgets": {},
     "nuid": "916bf20f-9f7e-4812-ae78-ad7af20b3e55",
     "showTitle": false,
     "tableResultSettingsMap": {},
     "title": ""
    }
   },
   "outputs": [],
   "source": [
    "import random\n",
    "from nltk.translate.bleu_score import corpus_bleu, SmoothingFunction\n",
    "import numpy as np\n",
    "import re"
   ]
  },
  {
   "cell_type": "code",
   "execution_count": 0,
   "metadata": {
    "application/vnd.databricks.v1+cell": {
     "cellMetadata": {
      "byteLimit": 2048000,
      "rowLimit": 10000
     },
     "inputWidgets": {},
     "nuid": "2c4290d3-374d-41bc-be99-31e63e3ef3ab",
     "showTitle": false,
     "tableResultSettingsMap": {},
     "title": ""
    }
   },
   "outputs": [
    {
     "output_type": "stream",
     "name": "stdout",
     "output_type": "stream",
     "text": [
      "Out[3]: ['CHAPTER I.',\n 'Mrs. Rachel Lynde Is Surprised',\n 'MRS. Rachel Lynde lived just where the Avonlea main road dipped down into a little hollow, fringed with alders and ladies’ eardrops and traversed by a brook that had its source away back in the woods of the old Cuthbert place; it was reputed to be an intricate, headlong brook in its earlier course through those woods, with dark secrets of pool and cascade; but by the time it reached Lynde’s Hollow it was a quiet, well-conducted little stream, for not even a brook could run past Mrs. Rachel Lynde’s door without due regard for decency and decorum; it probably was conscious that Mrs. Rachel was sitting at her window, keeping a sharp eye on everything that passed, from brooks and children up, and that if she noticed anything odd or out of place she would never rest until she had ferreted out the whys and wherefores thereof.',\n '',\n 'There are plenty of people, in Avonlea and out of it, who can attend closely to their neighbors’ business by dint of neglecting their own; but Mrs. Rachel Lynde was one of those capable creatures who can manage their own concerns and those of other folks into the bargain. She was a notable housewife; her work was always done and well done; she “ran” the Sewing Circle, helped run the Sunday-school, and was the strongest prop of the Church Aid Society and Foreign Missions Auxiliary. Yet with all this Mrs. Rachel found abundant time to sit for hours at her kitchen window, knitting “cotton warp” quilts—she had knitted sixteen of them, as Avonlea housekeepers were wont to tell in awed voices—and keeping a sharp eye on the main road that crossed the hollow and wound up the steep red hill beyond. Since Avonlea occupied a little triangular peninsula jutting out into the Gulf of St. Lawrence, with water on two sides of it, anybody who went out of it or into it had to pass over that hill road and so run the unseen gauntlet of Mrs. Rachel’s all-seeing eye.']"
     ]
    }
   ],
   "source": [
    "book_rdd = sc.textFile('/FileStore/tables/green_gables.txt')\n",
    "book_rdd.take(5)"
   ]
  },
  {
   "cell_type": "markdown",
   "metadata": {
    "application/vnd.databricks.v1+cell": {
     "cellMetadata": {},
     "inputWidgets": {},
     "nuid": "9899285d-0103-4b53-b3da-cc5e011a1a18",
     "showTitle": false,
     "tableResultSettingsMap": {},
     "title": ""
    }
   },
   "source": [
    "My dataset contains numerous quotation marks, which can lead to issues during text generation. For example, a quotation might start but never properly close, as the model doesn't recognize that the quotation was opened. To address this, the data requires preprocessing. I will remove all quotation marks, along with punctuation such as periods (`.`), question marks (`?`), exclamation marks (`!`), semicolons (`;`), and hyphens (`-`)."
   ]
  },
  {
   "cell_type": "code",
   "execution_count": 0,
   "metadata": {
    "application/vnd.databricks.v1+cell": {
     "cellMetadata": {
      "byteLimit": 2048000,
      "rowLimit": 10000
     },
     "inputWidgets": {},
     "nuid": "eb40e08a-eae1-4836-8a1c-e55ec0700848",
     "showTitle": false,
     "tableResultSettingsMap": {},
     "title": ""
    }
   },
   "outputs": [
    {
     "output_type": "stream",
     "name": "stdout",
     "output_type": "stream",
     "text": [
      "Out[4]: ['CHAPTER I',\n 'Mrs Rachel Lynde Is Surprised',\n 'MRS Rachel Lynde lived just where the Avonlea main road dipped down into a little hollow, fringed with alders and ladies’ eardrops and traversed by a brook that had its source away back in the woods of the old Cuthbert place it was reputed to be an intricate, headlong brook in its earlier course through those woods, with dark secrets of pool and cascade but by the time it reached Lynde’s Hollow it was a quiet, well conducted little stream, for not even a brook could run past Mrs Rachel Lynde’s door without due regard for decency and decorum it probably was conscious that Mrs Rachel was sitting at her window, keeping a sharp eye on everything that passed, from brooks and children up, and that if she noticed anything odd or out of place she would never rest until she had ferreted out the whys and wherefores thereof',\n '',\n 'There are plenty of people, in Avonlea and out of it, who can attend closely to their neighbors’ business by dint of neglecting their own but Mrs Rachel Lynde was one of those capable creatures who can manage their own concerns and those of other folks into the bargain She was a notable housewife her work was always done and well done she ran the Sewing Circle, helped run the Sunday school, and was the strongest prop of the Church Aid Society and Foreign Missions Auxiliary Yet with all this Mrs Rachel found abundant time to sit for hours at her kitchen window, knitting cotton warp quilts—she had knitted sixteen of them, as Avonlea housekeepers were wont to tell in awed voices—and keeping a sharp eye on the main road that crossed the hollow and wound up the steep red hill beyond Since Avonlea occupied a little triangular peninsula jutting out into the Gulf of St Lawrence, with water on two sides of it, anybody who went out of it or into it had to pass over that hill road and so run the unseen gauntlet of Mrs Rachel’s all seeing eye']"
     ]
    }
   ],
   "source": [
    "\n",
    "# Function to clean text\n",
    "def clean_text(line):\n",
    "    line = re.sub(r\"[\\\"“”]\", \"\", line)\n",
    "    line = re.sub(r\"[.!?]\", \"\", line)\n",
    "    line = re.sub(r\";\", \"\", line)\n",
    "    line = re.sub(r\"-\", \" \", line)\n",
    "    return line\n",
    "\n",
    "cleaned_rdd = book_rdd.map(clean_text)\n",
    "cleaned_rdd.take(5)"
   ]
  },
  {
   "cell_type": "markdown",
   "metadata": {
    "application/vnd.databricks.v1+cell": {
     "cellMetadata": {},
     "inputWidgets": {},
     "nuid": "75cf2fa0-086e-4775-a6be-b1f99e06fb67",
     "showTitle": false,
     "tableResultSettingsMap": {},
     "title": ""
    }
   },
   "source": [
    "The same preprocessing logic must also be applied to the reference text to ensure a more accurate calculation of the BLEU score, as it depends on the overlaps between the candidate (generated) text and the reference text. \n",
    "\n",
    "**The reference text** is one of the chapters taken from the book. By comparing the reference text with the candidate text, we can assess how well the generated text mimics the writing style of Lucy Maud Montgomery.\n",
    "\n",
    "Since the reference text is loaded as a string, the preprocessing function will look a little bit different. "
   ]
  },
  {
   "cell_type": "code",
   "execution_count": 0,
   "metadata": {
    "application/vnd.databricks.v1+cell": {
     "cellMetadata": {
      "byteLimit": 2048000,
      "rowLimit": 10000
     },
     "collapsed": true,
     "inputWidgets": {},
     "nuid": "9f9d3620-1d87-4339-aa62-65ddee5f01d6",
     "showTitle": false,
     "tableResultSettingsMap": {},
     "title": ""
    }
   },
   "outputs": [],
   "source": [
    "reference_text = \"\"\"\n",
    "“So you had tea at the stone house with Lavendar Lewis?” said Marilla at the breakfast table next morning. “What is she like now? It’s over fifteen years since I saw her last . . . it was one Sunday in Grafton church. I suppose she has changed a great deal. Davy Keith, when you want something you can’t reach, ask to have it passed and don’t spread yourself over the table in that fashion. Did you ever see Paul Irving doing that when he was here to meals?”\n",
    "\n",
    "“But Paul’s arms are longer’n mine,” brumbled Davy. “They’ve had eleven years to grow and mine’ve only had seven. ‘Sides, I did ask, but you and Anne was so busy talking you didn’t pay any ‘tention. ‘Sides, Paul’s never been here to any meal escept tea, and it’s easier to be p’lite at tea than at breakfast. You ain’t half as hungry. It’s an awful long while between supper and breakfast. Now, Anne, that spoonful ain’t any bigger than it was last year and I’m ever so much bigger.”\n",
    "\n",
    "“Of course, I don’t know what Miss Lavendar used to look like but I don’t fancy somehow that she has changed a great deal,” said Anne, after she had helped Davy to maple syrup, giving him two spoonfuls to pacify him. “Her hair is snow-white but her face is fresh and almost girlish, and she has the sweetest brown eyes . . . such a pretty shade of wood-brown with little golden glints in them . . . and her voice makes you think of white satin and tinkling water and fairy bells all mixed up together.”\n",
    "\n",
    "“She was reckoned a great beauty when she was a girl,” said Marilla. “I never knew her very well but I liked her as far as I did know her. Some folks thought her peculiar even then. Davy, if ever I catch you at such a trick again you’ll be made to wait for your meals till everyone else is done, like the French.”\n",
    "\n",
    "Most conversations between Anne and Marilla in the presence of the twins, were punctuated by these rebukes Davy-ward. In this instance, Davy, sad to relate, not being able to scoop up the last drops of his syrup with his spoon, had solved the difficulty by lifting his plate in both hands and applying his small pink tongue to it. Anne looked at him with such horrified eyes that the little sinner turned red and said, half shamefacedly, half defiantly,\n",
    "\n",
    "“There ain’t any wasted that way.”\n",
    "\n",
    "“People who are different from other people are always called peculiar,” said Anne. “And Miss Lavendar is certainly different, though it’s hard to say just where the difference comes in. Perhaps it is because she is one of those people who never grow old.”\n",
    "\n",
    "“One might as well grow old when all your generation do,” said Marilla, rather reckless of her pronouns. “If you don’t, you don’t fit in anywhere. Far as I can learn Lavendar Lewis has just dropped out of everything. She’s lived in that out of the way place until everybody has forgotten her. That stone house is one of the oldest on the Island. Old Mr. Lewis built it eighty years ago when he came out from England. Davy, stop joggling Dora’s elbow. Oh, I saw you! You needn’t try to look innocent. What does make you behave so this morning?”\n",
    "\n",
    "“Maybe I got out of the wrong side of the bed,” suggested Davy. “Milty Boulter says if you do that things are bound to go wrong with you all day. His grandmother told him. But which is the right side? And what are you to do when your bed’s against the wall? I want to know.”\n",
    "\n",
    "“I’ve always wondered what went wrong between Stephen Irving and Lavendar Lewis,” continued Marilla, ignoring Davy. “They were certainly engaged twenty-five years ago and then all at once it was broken off. I don’t know what the trouble was but it must have been something terrible, for he went away to the States and never come home since.”\n",
    "\n",
    "“Perhaps it was nothing very dreadful after all. I think the little things in life often make more trouble than the big things,” said Anne, with one of those flashes of insight which experience could not have bettered. “Marilla, please don’t say anything about my being at Miss Lavendar’s to Mrs. Lynde. She’d be sure to ask a hundred questions and somehow I wouldn’t like it . . . nor Miss Lavendar either if she knew, I feel sure.”\n",
    "\n",
    "“I daresay Rachel would be curious,” admitted Marilla, “though she hasn’t as much time as she used to have for looking after other people’s affairs. She’s tied home now on account of Thomas; and she’s feeling pretty downhearted, for I think she’s beginning to lose hope of his ever getting better. Rachel will be left pretty lonely if anything happens to him, with all her children settled out west, except Eliza in town; and she doesn’t like her husband.”\n",
    "\n",
    "Marilla’s pronouns slandered Eliza, who was very fond of her husband.\n",
    "\n",
    "“Rachel says if he’d only brace up and exert his will power he’d get better. But what is the use of asking a jellyfish to sit up straight?” continued Marilla. “Thomas Lynde never had any will power to exert. His mother ruled him till he married and then Rachel carried it on. It’s a wonder he dared to get sick without asking her permission. But there, I shouldn’t talk so. Rachel has been a good wife to him. He’d never have amounted to anything without her, that’s certain. He was born to be ruled; and it’s well he fell into the hands of a clever, capable manager like Rachel. He didn’t mind her way. It saved him the bother of ever making up his own mind about anything. Davy, do stop squirming like an eel.”\n",
    "\n",
    "“I’ve nothing else to do,” protested Davy. “I can’t eat any more, and it’s no fun watching you and Anne eat.”\n",
    "\n",
    "“Well, you and Dora go out and give the hens their wheat,” said Marilla. “And don’t you try to pull any more feathers out of the white rooster’s tail either.”\n",
    "\n",
    "“I wanted some feathers for an Injun headdress,” said Davy sulkily. “Milty Boulter has a dandy one, made out of the feathers his mother give him when she killed their old white gobbler. You might let me have some. That rooster’s got ever so many more’n he wants.”\n",
    "\n",
    "“You may have the old feather duster in the garret,” said Anne, “and I’ll dye them green and red and yellow for you.”\n",
    "\n",
    "“You do spoil that boy dreadfully,” said Marilla, when Davy, with a radiant face, had followed prim Dora out. Marilla’s education had made great strides in the past six years; but she had not yet been able to rid herself of the idea that it was very bad for a child to have too many of its wishes indulged.\n",
    "\n",
    "“All the boys of his class have Indian headdresses, and Davy wants one too,” said Anne. “I know how it feels . . . I’ll never forget how I used to long for puffed sleeves when all the other girls had them. And Davy isn’t being spoiled. He is improving every day. Think what a difference there is in him since he came here a year ago.”\n",
    "\n",
    "“He certainly doesn’t get into as much mischief since he began to go to school,” acknowledged Marilla. “I suppose he works off the tendency with the other boys. But it’s a wonder to me we haven’t heard from Richard Keith before this. Never a word since last May.”\n",
    "\n",
    "“I’ll be afraid to hear from him,” sighed Anne, beginning to clear away the dishes. “If a letter should come I’d dread opening it, for fear it would tell us to send the twins to him.”\n",
    "\n",
    "A month later a letter did come. But it was not from Richard Keith. A friend of his wrote to say that Richard Keith had died of consumption a fortnight previously. The writer of the letter was the executor of his will and by that will the sum of two thousand dollars was left to Miss Marilla Cuthbert in trust for David and Dora Keith until they came of age or married. In the meantime the interest was to be used for their maintenance.\n",
    "\n",
    "“It seems dreadful to be glad of anything in connection with a death,” said Anne soberly. “I’m sorry for poor Mr. Keith; but I am glad that we can keep the twins.”\n",
    "\n",
    "“It’s a very good thing about the money,” said Marilla practically. “I wanted to keep them but I really didn’t see how I could afford to do it, especially when they grew older. The rent of the farm doesn’t do any more than keep the house and I was bound that not a cent of your money should be spent on them. You do far too much for them as it is. Dora didn’t need that new hat you bought her any more than a cat needs two tails. But now the way is made clear and they are provided for.”\n",
    "\n",
    "Davy and Dora were delighted when they heard that they were to live at Green Gables, “for good.” The death of an uncle whom they had never seen could not weigh a moment in the balance against that. But Dora had one misgiving.\n",
    "\n",
    "“Was Uncle Richard buried?” she whispered to Anne.\n",
    "\n",
    "“Yes, dear, of course.”\n",
    "\n",
    "“He . . . he . . . isn’t like Mirabel Cotton’s uncle, is he?” in a still more agitated whisper. “He won’t walk about houses after being buried, will he, Anne?”\n",
    "\"\"\""
   ]
  },
  {
   "cell_type": "code",
   "execution_count": 0,
   "metadata": {
    "application/vnd.databricks.v1+cell": {
     "cellMetadata": {
      "byteLimit": 2048000,
      "rowLimit": 10000
     },
     "inputWidgets": {},
     "nuid": "9bbea5db-6ad3-41b1-8bdf-d0cc0dcdd2b7",
     "showTitle": false,
     "tableResultSettingsMap": {},
     "title": ""
    }
   },
   "outputs": [
    {
     "output_type": "stream",
     "name": "stdout",
     "output_type": "stream",
     "text": [
      "Out[6]: 'But Paul’s arms are longer’n mine, brumbled Davy They’ve had eleven years to grow and mine’ve only had seven ‘Sides, I did ask, but you and Anne was so busy talking you didn’t pay any ‘tention ‘Sides, Paul’s never been here to any meal escept tea, and it’s easier to be p’lite at tea than at breakfast You ain’t half as hungry It’s an awful long while between supper and breakfast Now, Anne, that spoonful ain’t any bigger than it was last year and I’m ever so much bigger'"
     ]
    }
   ],
   "source": [
    "def clean_text_string(text):\n",
    "    text = re.sub(r\"[\\\"“”]\", \"\", text)\n",
    "    text = re.sub(r\"[.!?]\", \"\", text)\n",
    "    text = re.sub(r\";\", \"\", text)\n",
    "    text = re.sub(r\"-\", \" \", text)\n",
    "\n",
    "    # Remove whitespace (including newlines) from each line\n",
    "    cleaned_lines = [line.strip() for line in text.splitlines()]\n",
    "    cleaned_lines = [line for line in cleaned_lines if line]\n",
    "    return cleaned_lines\n",
    "    \n",
    "reference_text = clean_text_string(reference_text)\n",
    "\n",
    "reference_text = [re.sub(r\"\\s+\", \" \", line) for line in reference_text]\n",
    "reference_text[1]"
   ]
  },
  {
   "cell_type": "markdown",
   "metadata": {
    "application/vnd.databricks.v1+cell": {
     "cellMetadata": {},
     "inputWidgets": {},
     "nuid": "cffca889-a88d-4a86-a758-ff9484c000b5",
     "showTitle": false,
     "tableResultSettingsMap": {},
     "title": ""
    }
   },
   "source": [
    "Since the models will be trained on lowercase words only, it is important to ensure that the case of letters in the reference text is consistent. This ensures that words like \"Honey\" and \"honey\" are not treated as distinct by the model.\n",
    "\n",
    "To address this, all letters in the `reference_text` will be converted to lowercase as part of the preprocessing step.\n"
   ]
  },
  {
   "cell_type": "code",
   "execution_count": 0,
   "metadata": {
    "application/vnd.databricks.v1+cell": {
     "cellMetadata": {
      "byteLimit": 2048000,
      "rowLimit": 10000
     },
     "inputWidgets": {},
     "nuid": "80a29897-e1d6-4dd0-bd09-33c72fb1fc2f",
     "showTitle": false,
     "tableResultSettingsMap": {},
     "title": ""
    }
   },
   "outputs": [
    {
     "output_type": "stream",
     "name": "stdout",
     "output_type": "stream",
     "text": [
      "Out[7]: 'but paul’s arms are longer’n mine, brumbled davy they’ve had eleven years to grow and mine’ve only had seven ‘sides, i did ask, but you and anne was so busy talking you didn’t pay any ‘tention ‘sides, paul’s never been here to any meal escept tea, and it’s easier to be p’lite at tea than at breakfast you ain’t half as hungry it’s an awful long while between supper and breakfast now, anne, that spoonful ain’t any bigger than it was last year and i’m ever so much bigger'"
     ]
    }
   ],
   "source": [
    "reference_text = [line.lower() for line in reference_text]\n",
    "\n",
    "reference_text[1]"
   ]
  },
  {
   "cell_type": "markdown",
   "metadata": {
    "application/vnd.databricks.v1+cell": {
     "cellMetadata": {},
     "inputWidgets": {},
     "nuid": "3077f964-0912-4e47-ba5d-8e38ff73aa35",
     "showTitle": false,
     "tableResultSettingsMap": {},
     "title": ""
    }
   },
   "source": [
    "## First Markov Chain\n",
    "\n",
    "In general, a **First Markov Chain** is a model that predicts the next word in a sequence based solely on the current word.\n",
    "\n",
    "##### Step 1: Extract Word Pairs\n",
    "The first step involves defining a function called `extract_word_pairs`. This function processes the text and creates an RDD consisting of word pairs, where each word is paired with the word that follows it in the sequence. For example, from the text, we might see pairs like `(mrs, rachel)` or `(rachel, lynde)`.\n",
    "\n"
   ]
  },
  {
   "cell_type": "code",
   "execution_count": 0,
   "metadata": {
    "application/vnd.databricks.v1+cell": {
     "cellMetadata": {
      "byteLimit": 2048000,
      "rowLimit": 10000
     },
     "inputWidgets": {},
     "nuid": "b01bde5c-8c8a-484d-bafc-b47f82efcaac",
     "showTitle": false,
     "tableResultSettingsMap": {},
     "title": ""
    }
   },
   "outputs": [
    {
     "output_type": "stream",
     "name": "stdout",
     "output_type": "stream",
     "text": [
      "Out[8]: [('chapter', 'i'),\n ('mrs', 'rachel'),\n ('rachel', 'lynde'),\n ('lynde', 'is'),\n ('is', 'surprised'),\n ('mrs', 'rachel'),\n ('rachel', 'lynde'),\n ('lynde', 'lived'),\n ('lived', 'just'),\n ('just', 'where')]"
     ]
    }
   ],
   "source": [
    "# First: flatten the text into pairs of consecutive words\n",
    "def extract_word_pairs(paragraph):\n",
    "    list_words_of_paragraph = paragraph.lower().split()\n",
    "    list_pairs_of_words_of_paragraph = []\n",
    "    previous_word = ''\n",
    "    for word in list_words_of_paragraph:\n",
    "        if previous_word:\n",
    "            list_pairs_of_words_of_paragraph.append((previous_word, word))\n",
    "        previous_word = word\n",
    "    return list_pairs_of_words_of_paragraph\n",
    "\n",
    "text_pairs_of_words_rdd = cleaned_rdd.flatMap(extract_word_pairs)\n",
    "text_pairs_of_words_rdd.take(10)\n"
   ]
  },
  {
   "cell_type": "markdown",
   "metadata": {
    "application/vnd.databricks.v1+cell": {
     "cellMetadata": {},
     "inputWidgets": {},
     "nuid": "d77fccaf-a330-42cb-b074-7e6a5b847c6e",
     "showTitle": false,
     "tableResultSettingsMap": {},
     "title": ""
    }
   },
   "source": [
    "#####Step 2: Group Word Pairs by Key\n",
    "This step groups the word pairs by their **key** (the first word in the pair). For each key, we create a list of all the words that appeared after it in the text. \n"
   ]
  },
  {
   "cell_type": "code",
   "execution_count": 0,
   "metadata": {
    "application/vnd.databricks.v1+cell": {
     "cellMetadata": {
      "byteLimit": 2048000,
      "rowLimit": 10000
     },
     "inputWidgets": {},
     "nuid": "4cc82c7e-ffee-45a7-bb06-ea8df1d9d2e1",
     "showTitle": false,
     "tableResultSettingsMap": {},
     "title": ""
    }
   },
   "outputs": [
    {
     "output_type": "stream",
     "name": "stdout",
     "output_type": "stream",
     "text": [
      "Out[9]: [('chapter',\n  ['i',\n   'ii',\n   'iii',\n   'iv',\n   'v',\n   'vi',\n   'vii',\n   'viii',\n   'ix',\n   'x',\n   'xi',\n   'xii',\n   'xiii',\n   'xiv',\n   'xv',\n   'about,',\n   'xvi',\n   'xvii',\n   'xviii',\n   'xix',\n   'xx',\n   'xxi',\n   'xxii',\n   'xxiii',\n   'xxiv',\n   'xxv',\n   'xxvi',\n   'xxvii',\n   'xxviii',\n   'xxix',\n   'xxx',\n   'xxxi',\n   'xxxii',\n   'xxxiii',\n   'xxxiv',\n   'xxxv',\n   'xxxvi',\n   'xxxvii',\n   'xxxviii',\n   'i',\n   'ii',\n   'iii',\n   'iv',\n   'v',\n   'vi',\n   'vii',\n   'viii',\n   'ix',\n   'x',\n   'xi',\n   'xii',\n   'xiii',\n   'xiv',\n   'xv',\n   'xvi',\n   'xvii',\n   'of',\n   'xviii',\n   'xix',\n   'xx',\n   'xxi',\n   'xxii',\n   'xxiii',\n   'xxiv',\n   'xxv',\n   'xxvi',\n   'xxvii',\n   'xxviii',\n   'xxix',\n   'xxx',\n   'of',\n   'in',\n   'did',\n   'i',\n   'ii',\n   'iii',\n   'iv',\n   'v',\n   'vi',\n   'vii',\n   'viii',\n   'ix',\n   'x',\n   'xi',\n   'xii',\n   'xiii',\n   'xiv',\n   'xv',\n   'xvi',\n   'xvii',\n   'xviii',\n   'xix',\n   'xx',\n   'xxi',\n   'xxii',\n   'xxiii',\n   'xxiv',\n   'xxv',\n   'xxvi',\n   'xxvii',\n   'xxviii',\n   'xxix',\n   'xxx',\n   'xxxi',\n   'xxxii',\n   'xxxiii',\n   'xxxiv',\n   'xxxv',\n   'xxxvi',\n   'xxxvii',\n   'xxxviii',\n   'xxxix',\n   'xl',\n   'xli',\n   'i',\n   'ii',\n   'iii',\n   'iv',\n   'v',\n   'vi',\n   'vii',\n   'viii',\n   'ix',\n   'x',\n   'xi',\n   'xii',\n   'xiii',\n   'xiv',\n   'xv',\n   'xvi',\n   'xvii',\n   'xviii',\n   'xix',\n   'xx',\n   'xxi',\n   'xxii',\n   'xxiii',\n   'xxiv',\n   'xxv',\n   'xxvi',\n   'xxvii',\n   'xxviii',\n   'xxix',\n   'xxx',\n   'xxxi',\n   'xxxii',\n   'xxxiii',\n   'xxxiv',\n   'xxxv',\n   'xxxvi',\n   'xxxvii',\n   'xxxviii',\n   'xxxix',\n   'xl',\n   'xli',\n   '1',\n   '2',\n   '3',\n   '4',\n   'of',\n   '5',\n   '6',\n   '7',\n   '8',\n   '9',\n   'now,',\n   '10',\n   '11',\n   '12',\n   '13',\n   '14',\n   '15',\n   '16',\n   '17',\n   '18',\n   '19',\n   '20',\n   '21',\n   '22',\n   '23',\n   '24',\n   '25',\n   'of',\n   '26',\n   '27',\n   '28',\n   '29',\n   '30',\n   '31',\n   '32',\n   '33',\n   '34',\n   '35',\n   '36',\n   '37',\n   '38',\n   '39',\n   '40',\n   'hurt',\n   'in']),\n ('rachel',\n  ['lynde',\n   'lynde',\n   'lynde’s',\n   'was',\n   'lynde',\n   'found',\n   'lynde’s',\n   'knew',\n   'set',\n   'lynde',\n   'stepped',\n   'would',\n   'rapped',\n   'was',\n   'i',\n   'up',\n   'could',\n   'was',\n   'felt',\n   'prided',\n   'i’ve',\n   'in',\n   'would',\n   'dearly',\n   'when',\n   'to',\n   'he',\n   'could',\n   'lynde',\n   'was',\n   'came,',\n   'introduced',\n   'sympathetically',\n   'lynde’s',\n   'was',\n   'expected',\n   'undauntedly,',\n   'with',\n   'indignantly',\n   'got',\n   'swept',\n   'lynde,',\n   'is',\n   'lynde',\n   'and',\n   'says',\n   'says',\n   'lynde',\n   'was',\n   'about',\n   'she’s',\n   'nodded',\n   'shook',\n   'lynde',\n   'lynde',\n   'were',\n   'lynde,',\n   'lynde',\n   'before',\n   'lynde,',\n   'you’ll',\n   'and',\n   'lawful',\n   'to',\n   'often',\n   'is',\n   'reminds',\n   'said',\n   'told',\n   'deposited',\n   'lynde',\n   'was',\n   'got',\n   'says',\n   'solemnly',\n   'that',\n   'that',\n   'was',\n   'had',\n   'lynde',\n   'cautiously',\n   'lynde',\n   'called',\n   'peered',\n   'lynde',\n   'lynde',\n   'sent',\n   'lynde',\n   'lynde',\n   'with',\n   'pronouncing',\n   'that',\n   'and',\n   'wants',\n   'would',\n   'will',\n   'says',\n   'carried',\n   'has',\n   'he',\n   'lynde',\n   'lynde',\n   'lynde',\n   'lynde',\n   'with',\n   'looked',\n   'had',\n   'and',\n   'tonight',\n   'thinks',\n   'living',\n   'go',\n   'for',\n   'at',\n   'and',\n   'came',\n   'go',\n   'to',\n   'to',\n   'had',\n   'like',\n   'lynde',\n   'however,',\n   'lynde',\n   'lynde',\n   'lynde',\n   'but',\n   'lynde',\n   'sighed',\n   'lynde',\n   'lynde',\n   'lynde—herb',\n   'lynde',\n   'had',\n   'says',\n   'severely',\n   'and',\n   'were',\n   'severely',\n   'held',\n   'was',\n   'gloomily,',\n   'sighed',\n   'says',\n   'has',\n   'to',\n   'lynde’s',\n   'solemnly',\n   'angrily',\n   'says,',\n   'says,',\n   'lynde',\n   'lynde,',\n   'sighed,',\n   'was',\n   'lynde',\n   'lynde,',\n   'severely',\n   'authoritatively',\n   'responded',\n   'severely',\n   'she',\n   'lynde',\n   'lynde',\n   'lynde',\n   'lynde',\n   'had',\n   'that',\n   'did',\n   'was',\n   'carve',\n   'had',\n   'lynde',\n   'would',\n   'and',\n   'lynde',\n   'lynde']),\n ('lynde',\n  ['is',\n   'lived',\n   'was',\n   'did',\n   'is',\n   'arrived',\n   'said',\n   'will',\n   'was',\n   'to',\n   'you',\n   'i’m',\n   'got',\n   'so',\n   'so',\n   'recognized',\n   'anne',\n   'got',\n   'to',\n   'now',\n   'to',\n   'said',\n   'was',\n   'was',\n   'and',\n   'are',\n   'says,',\n   'for',\n   'knitting',\n   'amiably—mrs',\n   'dearly',\n   'again',\n   'was',\n   'she',\n   'had',\n   'was',\n   'are',\n   'says',\n   'says',\n   'is',\n   'severely,',\n   'had',\n   'laughed',\n   'says,',\n   'says',\n   'until',\n   'had',\n   'says',\n   'says',\n   'says',\n   'is',\n   'says',\n   'says',\n   'says',\n   'says',\n   'says',\n   'says',\n   'says',\n   'came',\n   'says',\n   'always',\n   'says',\n   'says',\n   'for',\n   'he',\n   'to',\n   'brought',\n   'left',\n   'to',\n   'made',\n   'says',\n   'says',\n   'says',\n   'says',\n   'says',\n   'for',\n   'but',\n   'says',\n   'was',\n   'to',\n   'got',\n   'was',\n   'wouldn’t',\n   'says',\n   'says',\n   'isn’t',\n   'says',\n   'says',\n   'says',\n   'says',\n   'came',\n   'says',\n   'that',\n   'can',\n   'i',\n   'and',\n   'says,',\n   'would',\n   'wanted',\n   'was',\n   'says',\n   'pushed',\n   'stayed',\n   'advises',\n   'once',\n   'she',\n   'lifted',\n   'cried',\n   'looked',\n   'told',\n   'said',\n   'went',\n   'told',\n   'coming',\n   'was',\n   'it',\n   'would',\n   'looked',\n   'to',\n   'had',\n   'always',\n   'don’t',\n   'was',\n   'says',\n   'has',\n   'had',\n   'came',\n   'would',\n   'doesn’t',\n   'says',\n   'says',\n   'says',\n   'was',\n   'lay',\n   'was',\n   'don’t',\n   'at',\n   'may',\n   'long',\n   'being',\n   'just',\n   'says',\n   'would',\n   'drove',\n   'oddly',\n   'drove',\n   'called',\n   'says',\n   'told',\n   'took',\n   'would',\n   'came',\n   'said',\n   'jordan',\n   'sighed',\n   'was',\n   'started',\n   'would',\n   'couldn’t',\n   'saw',\n   'was',\n   'mrs',\n   'is',\n   'said',\n   'see',\n   'says,',\n   'is',\n   'says',\n   'came',\n   'says',\n   'she’d',\n   'never',\n   'says',\n   'say',\n   'had',\n   'wasn’t',\n   'had',\n   'had',\n   'rushed',\n   'was',\n   'did',\n   'and',\n   'said',\n   'to',\n   'she’s',\n   'beats',\n   'if',\n   'and',\n   'is',\n   'was',\n   'faded',\n   'is',\n   'tonight',\n   'to',\n   'is',\n   'smilingly',\n   'says',\n   'says',\n   'says',\n   'says,',\n   'says',\n   'says,',\n   'says',\n   'would',\n   'going',\n   'says',\n   'coming',\n   'if',\n   'and',\n   'said',\n   'laughed',\n   'solemnly,',\n   'came',\n   'nor',\n   'had',\n   'and',\n   'had',\n   'with',\n   'threw',\n   'asking',\n   'says',\n   'would',\n   'calls',\n   'says',\n   'said',\n   'was',\n   'or',\n   'and',\n   'would',\n   'said',\n   'scornfully',\n   'bluntly',\n   'would',\n   'believes',\n   'always',\n   'had',\n   'davy',\n   'limped',\n   'since',\n   'could',\n   'might',\n   'had',\n   'that',\n   'now',\n   'are',\n   'asked',\n   'on',\n   'grumbled',\n   'said',\n   'was',\n   'gave',\n   'that',\n   'has',\n   'straned',\n   'says',\n   'says',\n   'was',\n   'says',\n   'would',\n   'vied',\n   'was',\n   'was',\n   'says',\n   'said,',\n   'says',\n   'is',\n   'to',\n   'anne',\n   'measured',\n   'tied',\n   'made',\n   'solemnly',\n   'she',\n   'emphatically',\n   'gave',\n   'significantly',\n   'i',\n   'well,',\n   'could',\n   'was',\n   'did',\n   'gravely',\n   'and',\n   'when',\n   'would',\n   'you',\n   'looked',\n   'indignantly',\n   'afterwards',\n   'have',\n   'and',\n   'sent',\n   'as',\n   'place']),\n ('is',\n  ['surprised',\n   'a',\n   'getting',\n   'like',\n   'right',\n   'doubtful',\n   'hard',\n   'surprised',\n   'over',\n   'like',\n   'so',\n   'my',\n   'she',\n   'the',\n   'one',\n   'there',\n   'a',\n   'just',\n   'an',\n   'a',\n   'no',\n   'the',\n   'diana',\n   'real',\n   'surprised',\n   'the',\n   'a',\n   'need',\n   'the',\n   'that',\n   'such',\n   'a',\n   'only',\n   'very',\n   'extremely',\n   'never',\n   'a',\n   'what',\n   'a',\n   'that',\n   'waiting',\n   'it',\n   'a',\n   'so',\n   'no',\n   'no',\n   'there',\n   'over',\n   'the',\n   'the',\n   'kind',\n   'nothing',\n   'a',\n   'another',\n   'a',\n   'about',\n   'it',\n   'a',\n   'a',\n   'it',\n   'as',\n   'anything',\n   'too',\n   'a',\n   'just',\n   'nicer',\n   'that',\n   'just',\n   'we',\n   'a',\n   'to',\n   'real',\n   'disposed',\n   'going',\n   'real',\n   'a',\n   'a',\n   'mrs',\n   'simply',\n   'begun',\n   'the',\n   'on',\n   'something',\n   'just',\n   'a',\n   'diana',\n   'it',\n   'a',\n   'good',\n   'better',\n   'covered',\n   'mahogany',\n   'a',\n   'of',\n   'a',\n   'the',\n   'to',\n   'properly',\n   'right',\n   'a',\n   'so,',\n   'i',\n   'such',\n   'too',\n   'no',\n   'red',\n   'terrible',\n   'so',\n   'an',\n   'something',\n   'as',\n   'blowing',\n   'the',\n   'for',\n   'of',\n   'that',\n   'the',\n   'anne',\n   'my',\n   'another',\n   'running',\n   'in',\n   'in',\n   'a',\n   'going',\n   'going',\n   'ever',\n   'sort',\n   'you',\n   'and',\n   'such',\n   'simply',\n   'a',\n   'especially',\n   'as',\n   'going',\n   'having',\n   'going',\n   'one',\n   'half',\n   'gone',\n   'the',\n   'so',\n   'gone,',\n   'afraid',\n   'gone',\n   'tomorrow,',\n   'terrible,',\n   'crazy',\n   'broken',\n   'in',\n   'bewitched',\n   'a',\n   'hard',\n   'so',\n   'one',\n   'grown',\n   'dead',\n   'something',\n   'right',\n   'the',\n   'well',\n   'the',\n   'dead',\n   'nice',\n   'handsome,',\n   'possible',\n   'sitting',\n   'practicing',\n   'going',\n   'i',\n   'scandalous,',\n   'coming',\n   'invited',\n   'proper',\n   'your',\n   'very',\n   'hauling',\n   'he',\n   'very',\n   'good',\n   'fairly',\n   'a',\n   'a',\n   'trying',\n   'uphill',\n   'so',\n   'such',\n   'the',\n   'so',\n   'broken',\n   'always',\n   'gone,',\n   'a',\n   'nothing',\n   'wonderful',\n   'all',\n   'buried',\n   'much',\n   'all',\n   'left',\n   'just',\n   'a',\n   'much',\n   'no',\n   'extremely',\n   'casting',\n   'going',\n   'a',\n   'one,',\n   'courting',\n   'that',\n   'to',\n   'studying',\n   'the',\n   'awful',\n   'awful',\n   'away',\n   'the',\n   'as',\n   'the',\n   'in',\n   'very',\n   'true,',\n   'so',\n   'diana’s',\n   'you',\n   'a',\n   'going',\n   'such',\n   'going',\n   'he’s',\n   'that',\n   'enough',\n   'matthew’s',\n   'your',\n   'no',\n   'going',\n   'she’d',\n   'determined',\n   'rich',\n   'so,',\n   '‘look',\n   'to',\n   'a',\n   'to',\n   'set',\n   'to',\n   'any',\n   'to',\n   'our',\n   'a',\n   'just',\n   'my',\n   'a',\n   'doing',\n   'very',\n   'a',\n   'you',\n   'the',\n   'their',\n   'very',\n   'why',\n   'how',\n   'the',\n   'no',\n   'so',\n   'to',\n   'when',\n   'going',\n   'nothing',\n   'very',\n   'to',\n   'ready',\n   'a',\n   'sound',\n   'perfectly',\n   'exactly',\n   'a',\n   'too',\n   'ready,',\n   'dyspeptic',\n   'no',\n   'really',\n   'so',\n   'a',\n   'invited',\n   'the',\n   'something',\n   'that',\n   'one',\n   'a',\n   'to',\n   'miss',\n   'a',\n   'at',\n   'just',\n   'all',\n   'what',\n   'a',\n   'such',\n   'perfectly',\n   'just',\n   'a',\n   'that',\n   'so',\n   'when',\n   'a',\n   'a',\n   'to',\n   'sulky',\n   'to',\n   'just',\n   'going',\n   'seated,',\n   'that',\n   'over',\n   'positively',\n   'waking',\n   'very',\n   'what',\n   'it',\n   'sheer',\n   'you’ll',\n   'that',\n   'for',\n   'too',\n   'going',\n   'my',\n   'so',\n   'formed',\n   'why',\n   'such',\n   'no',\n   'only',\n   'an',\n   'one',\n   'imagining',\n   'only',\n   'wearing',\n   'a',\n   'terrible',\n   'the',\n   'that',\n   'one',\n   'rosamond',\n   'rather',\n   'worse',\n   'the',\n   'bad',\n   'worse',\n   'the',\n   'doing',\n   'any',\n   'now',\n   'it',\n   'mrs',\n   'that',\n   'full',\n   'closed',\n   'the',\n   'it',\n   'proof',\n   'to',\n   'poetry,',\n   'true',\n   'fast',\n   'no',\n   'broken',\n   'such',\n   'nothing',\n   'there',\n   'better',\n   'so',\n   'just',\n   'ever',\n   'real',\n   'lying',\n   'abominably',\n   'hundreds',\n   'awfully',\n   'in',\n   'all',\n   'going',\n   'no',\n   'not',\n   'a',\n   'no',\n   'going',\n   'going',\n   'very',\n   'ever',\n   'easier',\n   'so',\n   'one',\n   'elegant,',\n   'very',\n   'such',\n   'no',\n   'one',\n   'the',\n   'a',\n   'organized',\n   'a',\n   'young',\n   'what',\n   'a',\n   'going',\n   'no',\n   'a',\n   'going',\n   'the',\n   'a',\n   'just',\n   'different',\n   'going',\n   'gilbert',\n   'not',\n   'going',\n   'but',\n   'improving',\n   'sound',\n   'a',\n   'nobody',\n   'the',\n   'a',\n   'right',\n   'so',\n   'geometry',\n   'latin,',\n   'algebra,',\n   'arithmetic',\n   'going',\n   'going',\n   'out',\n   'one',\n   'thirteen',\n   'apt',\n   'tuesday',\n   'true',\n   'to',\n   'the',\n   'out',\n   'over',\n   'first',\n   'not',\n   'stiff,',\n   'no',\n   'so',\n   'no',\n   'pretty',\n   'too',\n   'going',\n   'a',\n   'a',\n   'married',\n   'that',\n   'better',\n   'but',\n   'a',\n   'very',\n   'good,',\n   'near',\n   'connected',\n   'nearly',\n   'at',\n   'simply',\n   'goosey,',\n   'to',\n   'one',\n   'such',\n   'the',\n   'as',\n   'nearly',\n   'meant',\n   'trying',\n   'the',\n   'going',\n   'matthew',\n   'a',\n   'what',\n   'in',\n   'a',\n   'ever',\n   'death',\n   'the',\n   'just',\n   'no',\n   'all',\n   'auburn',\n   'a',\n   'any',\n   'josie',\n   'going',\n   'going',\n   'when',\n   'to',\n   'i',\n   'no',\n   'quite',\n   'a',\n   'of',\n   'no',\n   'a',\n   'signaling',\n   'the',\n   'the',\n   'what',\n   'what',\n   'asked',\n   'it',\n   'not',\n   'very',\n   'my',\n   'your',\n   'all',\n   'yours,',\n   'true',\n   'over,',\n   'too',\n   'in',\n   'a',\n   'to',\n   'more',\n   'mrs',\n   'a',\n   'coming',\n   'in',\n   'a',\n   'coming',\n   'anything',\n   'avonlea',\n   'to',\n   'too',\n   'such',\n   'empty,',\n   'young',\n   'a',\n   'no',\n   'an',\n   'terrible',\n   'it',\n   'out',\n   'in',\n   'just',\n   'all',\n   'what',\n   'it',\n   'the',\n   'a',\n   'mrs',\n   'all',\n   'a',\n   'a',\n   'only',\n   'true',\n   'a',\n   'an',\n   'to',\n   'usual',\n   'some',\n   'a',\n   'what',\n   'even',\n   'the',\n   'much',\n   'impossible',\n   'that',\n   'donnell',\n   'and',\n   'and',\n   'that',\n   'a',\n   'donnell',\n   'crazy,',\n   'a',\n   'a',\n   'it',\n   'very',\n   'certainly',\n   'why',\n   'a',\n   'halting',\n   'going',\n   'such',\n   'coming',\n   'possible',\n   'going',\n   'alone',\n   'there',\n   'indeed',\n   'a',\n   'getting',\n   'facts',\n   'your',\n   'it',\n   'very',\n   'getting',\n   'home',\n   'we',\n   'always',\n   'always',\n   'coming',\n   'dreadfully',\n   'and',\n   'about',\n   'the',\n   'worse,',\n   'so',\n   'only',\n   'a',\n   'an',\n   'really',\n   'lacking',\n   'a',\n   'tolerably',\n   'their',\n   'it',\n   'yet',\n   'the',\n   'the',\n   'lending',\n   'worse',\n   'to',\n   'a',\n   'a',\n   'naughty',\n   'the',\n   'our',\n   'going',\n   'stay',\n   'all',\n   'i',\n   'a',\n   'it',\n   'always',\n   'wrong',\n   'a',\n   'but',\n   'going',\n   'will',\n   'pye',\n   'probably',\n   'some',\n   'true,',\n   'simply',\n   'the',\n   'dreadful',\n   'the',\n   'so',\n   'as',\n   'shingled',\n   'usually',\n   'growing',\n   'improving',\n   'a',\n   'away',\n   'lost',\n   'perhaps',\n   'i’m',\n   'no',\n   'it',\n   'it',\n   'bad,',\n   'almost',\n   'you',\n   'just',\n   'real',\n   'rather',\n   'so',\n   'no',\n   'too',\n   'really',\n   'monotonous',\n   'almost',\n   'probably',\n   'certainly',\n   'a',\n   'to',\n   'ned',\n   'very',\n   'william',\n   'oll',\n   'not',\n   'oll',\n   'just',\n   'painted',\n   'what',\n   'built',\n   'the',\n   'a',\n   'not',\n   'a',\n   'her',\n   'of',\n   'why',\n   'like',\n   'on',\n   'like',\n   'red,',\n   'barbara',\n   'a',\n   'jealous',\n   'a',\n   'a',\n   'nothing',\n   'very',\n   'no',\n   'the',\n   'in',\n   'the',\n   'rising',\n   'the',\n   'all',\n   'alive',\n   'very',\n   'the',\n   'a',\n   'ever',\n   'here’',\n   'positively',\n   'this',\n   'to',\n   'the',\n   'a',\n   'the',\n   'not',\n   'to',\n   'coming',\n   'very',\n   'conversation',\n   'where',\n   'buried',\n   'buried',\n   'a',\n   'something',\n   'my',\n   'the',\n   'apt',\n   'lines',\n   'the',\n   'the',\n   'not',\n   'a',\n   'like',\n   'an',\n   'a',\n   'to',\n   'a',\n   'past',\n   'going',\n   'specially',\n   'prophesying',\n   'put',\n   'anything',\n   'very',\n   'awful',\n   'nothing',\n   'just',\n   'needless',\n   'interested',\n   'a',\n   'going',\n   'side',\n   'he’d',\n   'there',\n   'to',\n   'simply',\n   'an',\n   'the',\n   'clear',\n   'to',\n   'next',\n   'sending',\n   'keeping',\n   'something',\n   'really',\n   'only',\n   'determined',\n   'priceless',\n   'better',\n   'going',\n   'coming',\n   'going',\n   'crime’',\n   'not',\n   'what',\n   'rich',\n   'a',\n   'often',\n   'always',\n   'jealous',\n   'always',\n   'desecration',\n   'in',\n   'very',\n   'in',\n   'it',\n   'mrs',\n   'on',\n   'fine',\n   'a',\n   'only',\n   'here',\n   'to',\n   'in',\n   'a',\n   'all',\n   'coming',\n   'wonderful',\n   'much',\n   'over',\n   'hungry',\n   'being',\n   'an',\n   'well',\n   'going',\n   'glorious',\n   'like',\n   'any',\n   'going',\n   'sleep',\n   'and',\n   'it',\n   'only',\n   'the',\n   'not',\n   'very',\n   'an',\n   'economical',\n   'that',\n   'so',\n   'it',\n   'on',\n   'a',\n   'home',\n   'the',\n   'just',\n   'their',\n   'not',\n   'and',\n   'that',\n   'just',\n   'a',\n   'that',\n   'thunder',\n   'in',\n   'only',\n   'no',\n   'mine',\n   'an',\n   'de',\n   'a',\n   'because',\n   'a',\n   'the',\n   'handy',\n   'such',\n   'not',\n   'a',\n   'gray',\n   'gray',\n   'nearly',\n   'real',\n   'a',\n   'you',\n   'a',\n   'paul',\n   'davy,',\n   'the',\n   'going',\n   'getting',\n   'past',\n   'an',\n   'almost',\n   'not',\n   'feeling',\n   'an',\n   'he',\n   'himself,',\n   'going',\n   'a',\n   'a',\n   'to',\n   'in',\n   'the',\n   'another',\n   'really',\n   'no',\n   'foreordained',\n   'married',\n   'great',\n   'lame',\n   'a',\n   'the',\n   'very',\n   'hardly',\n   'open',\n   'miss',\n   'so',\n   'the',\n   'a',\n   'quite',\n   'a',\n   'so',\n   'not',\n   'hanging',\n   'let',\n   'it',\n   'leonora',\n   'this',\n   'sixteen',\n   'the',\n   'he',\n   'a',\n   'he',\n   'she',\n   'snow',\n   'fresh',\n   'done,',\n   'certainly',\n   'because',\n   'one',\n   'one',\n   'the',\n   'the',\n   'improving',\n   'in',\n   'dora',\n   'made',\n   'he',\n   'away',\n   'sick',\n   'far',\n   'quite',\n   'in',\n   'good',\n   'he',\n   'the',\n   'stephen’s',\n   'very',\n   'real',\n   'dead',\n   'that',\n   'your',\n   'that',\n   'human',\n   'reaching',\n   'it',\n   'doubtful',\n   'certain,',\n   'a',\n   'one',\n   'in',\n   'also',\n   'coming',\n   'this',\n   'it',\n   'going',\n   'over',\n   'as',\n   'dead',\n   'out',\n   'mr',\n   'real',\n   'very',\n   'apt',\n   'awful',\n   'just',\n   'scrubbed,',\n   'shaved,',\n   'come',\n   'so',\n   'to',\n   'a',\n   'a',\n   'a',\n   'gone',\n   'mrs',\n   'going',\n   'for',\n   'a',\n   'that',\n   'a',\n   'a',\n   'kind',\n   'the',\n   'very',\n   'bound',\n   'afraid',\n   'too',\n   'glad',\n   'literally',\n   'such',\n   'a',\n   'going',\n   'pretty',\n   'eating',\n   'goodness',\n   'six',\n   ...]),\n ('lived',\n  ['just',\n   'was',\n   'long',\n   'with',\n   'there',\n   'up',\n   'in',\n   'it',\n   'in',\n   'with',\n   'in',\n   'there',\n   'there',\n   'before',\n   'in',\n   'mustn’t',\n   'in',\n   'in',\n   'outdoors,',\n   'many',\n   'years',\n   'in',\n   'in',\n   'as',\n   'before',\n   'and',\n   'the',\n   'within',\n   'where',\n   'in',\n   'up',\n   'here',\n   'in',\n   'in',\n   'in',\n   'it',\n   'down',\n   'in',\n   'there',\n   'with',\n   'solely',\n   'for',\n   'so',\n   'there',\n   'next',\n   'on',\n   'here',\n   'only',\n   'at',\n   'a',\n   'and',\n   'in',\n   'next',\n   'there',\n   'in',\n   'in',\n   'so',\n   'in',\n   'on',\n   'there',\n   'too',\n   'with',\n   'all',\n   'in',\n   'in,',\n   'in',\n   'she',\n   'it',\n   'so',\n   'much',\n   'under',\n   'all',\n   'to',\n   'to',\n   'her',\n   'in',\n   'away',\n   'there',\n   'in',\n   'for',\n   'next',\n   'all',\n   'as',\n   'for',\n   'on',\n   'with',\n   'with',\n   'with',\n   'one',\n   'a',\n   'it',\n   'a',\n   'i',\n   'and',\n   'in',\n   'alone,',\n   'at',\n   'over',\n   'at',\n   'and']),\n ('just',\n  ['where',\n   'step',\n   'staying,',\n   'tell',\n   'then,',\n   'a',\n   'in',\n   'love',\n   'went',\n   'love',\n   'makes',\n   'love',\n   'looked',\n   'exactly',\n   'now',\n   'plain',\n   'satisfied',\n   'can’t',\n   'to',\n   'as',\n   'as',\n   'as',\n   'as',\n   'as',\n   'referring',\n   'when',\n   'as',\n   'as',\n   'the',\n   'loved',\n   'been',\n   'as',\n   'a',\n   'to',\n   'looks',\n   'going',\n   'as',\n   'when',\n   'sounds',\n   'you',\n   'inside',\n   'three',\n   'love',\n   'full',\n   'as',\n   'imagine',\n   'ahead,',\n   'about',\n   'saying',\n   'a',\n   'the',\n   'came',\n   'that',\n   'leave',\n   'feel',\n   'thank',\n   'now',\n   'thought',\n   'as',\n   'have',\n   'go',\n   'plain',\n   'say',\n   'as',\n   'you',\n   'imagining',\n   'crept',\n   'how',\n   'as',\n   'the',\n   'like',\n   'now',\n   'broke',\n   'up',\n   'as',\n   'tumbled',\n   'think',\n   'the',\n   'as',\n   'seen',\n   'been',\n   'because',\n   'rose',\n   'imagine',\n   'what',\n   'smooth',\n   'furious',\n   'couldn’t',\n   'go',\n   'imagine',\n   'mustn’t',\n   'keep',\n   'blaze',\n   'makes',\n   'now,',\n   'one',\n   'to',\n   'have',\n   'as',\n   'gazed',\n   'said,',\n   'under',\n   'thrill',\n   'as',\n   'let',\n   'means',\n   'imagine',\n   'got',\n   'eat',\n   'look',\n   'one',\n   'as',\n   'for',\n   'have',\n   'sweet',\n   'to',\n   'remember',\n   'if',\n   'taken',\n   'let',\n   'as',\n   'slipped',\n   'found',\n   'in',\n   'to',\n   'got',\n   'imagine',\n   'up',\n   'torments',\n   'like',\n   'nine',\n   'swept',\n   'look',\n   'as',\n   'think',\n   'then',\n   'talk',\n   'humor',\n   'leads',\n   'hate',\n   'skipped',\n   'imagine',\n   'as',\n   'to',\n   'after',\n   'as',\n   'made',\n   'now',\n   'have',\n   'rained',\n   'as',\n   'stood',\n   'looked',\n   'carried',\n   'overcome',\n   'laughed',\n   'kept',\n   'simply',\n   'told',\n   'imagine',\n   'one',\n   'once',\n   'say',\n   'what',\n   'dull',\n   'have',\n   'one',\n   'as',\n   'as',\n   'wait',\n   'to',\n   'imagine',\n   'imagined',\n   'know',\n   'go',\n   'full',\n   'then',\n   'at',\n   'said',\n   'as',\n   'being',\n   'for',\n   'signaled',\n   'signaled',\n   'ten',\n   'what',\n   'about',\n   'one',\n   'think',\n   'set',\n   'how',\n   'received',\n   'how',\n   'that',\n   'flashes',\n   'scorn',\n   'as',\n   'put',\n   'imagine',\n   'as',\n   'as',\n   'the',\n   'imagined',\n   'got',\n   'about',\n   'for',\n   'because',\n   'cried',\n   'as',\n   'had',\n   'like',\n   'as',\n   'as',\n   'smiled',\n   'feel',\n   'before',\n   'see',\n   'grow',\n   'when',\n   'have',\n   'suppose',\n   'and',\n   'a',\n   'as',\n   'come',\n   'look',\n   'love',\n   'invited',\n   'think',\n   'like',\n   'gazed',\n   'before',\n   'the',\n   'then',\n   'one',\n   'why',\n   'felt',\n   'as',\n   'glorious',\n   'because',\n   'wish',\n   'put',\n   'made',\n   'filling',\n   'tremble',\n   'as',\n   'now',\n   'now',\n   'go',\n   'suit',\n   'pamper',\n   'enough',\n   'nasty',\n   'said',\n   'brought',\n   'felt',\n   'splendid',\n   'now',\n   'lay',\n   'think,',\n   'worships',\n   'like',\n   'a',\n   'as',\n   'cried',\n   'imagined',\n   'thought',\n   'got',\n   'as',\n   'the',\n   'what',\n   'giving',\n   'swept',\n   'couldn’t',\n   'the',\n   'as',\n   'the',\n   'then,',\n   'old',\n   'said,',\n   'escaped',\n   'as',\n   'like',\n   'slips',\n   'like',\n   'wish',\n   'sat',\n   'as',\n   'got',\n   'looked',\n   'looked',\n   'curdled',\n   'as',\n   'what',\n   'going',\n   'going',\n   'when',\n   'a',\n   'feel',\n   'like',\n   'to',\n   'what',\n   'as',\n   'as',\n   'as',\n   'one',\n   'discovered',\n   'going',\n   'splendidly,',\n   'rushed',\n   'scraped',\n   'dazzled',\n   'once',\n   'guess',\n   'behind',\n   'one',\n   'a',\n   'have',\n   'buys',\n   'let',\n   'wish',\n   'liked',\n   'love',\n   'lovely,',\n   'couldn’t',\n   'got',\n   'pruned',\n   'the',\n   'then',\n   'in',\n   'now',\n   'then',\n   'as',\n   'such',\n   'like',\n   'now',\n   'then,',\n   'say',\n   'now',\n   'going',\n   'for',\n   'mind',\n   'driven',\n   'let',\n   'away',\n   'the',\n   'think',\n   'what',\n   'as',\n   'the',\n   'a',\n   'a',\n   'over',\n   'exactly',\n   'want',\n   'as',\n   'what',\n   'talking',\n   'leave',\n   'as',\n   'outside',\n   'as',\n   'died',\n   'like',\n   'as',\n   'how',\n   'sold',\n   'let',\n   'what',\n   'then',\n   'as',\n   'softly',\n   'like',\n   'souls',\n   'this',\n   'a',\n   'to',\n   'as',\n   'before',\n   'jumped',\n   'swept',\n   'been',\n   'now',\n   'put',\n   'come',\n   'in',\n   'trying',\n   'twice',\n   'as',\n   'setting',\n   'been',\n   '’cause',\n   'laid',\n   'as',\n   'better',\n   'cried',\n   'says,',\n   'goes',\n   'taken',\n   'then',\n   'to',\n   'as',\n   'awful',\n   'a',\n   'said',\n   'given',\n   'like',\n   'then',\n   'as',\n   'found',\n   'did',\n   'as',\n   'have',\n   'to',\n   'nasty',\n   'bad',\n   'mischief',\n   'as',\n   'as',\n   'tried',\n   'that',\n   'copy',\n   'what',\n   'as',\n   'in',\n   'where',\n   'made',\n   'come',\n   'as',\n   'where',\n   'on',\n   'as',\n   'thinking',\n   'what',\n   'passed',\n   'wishing',\n   'before',\n   'worshipped',\n   'grew',\n   'smiled',\n   'wanted',\n   'what',\n   'that',\n   'been',\n   'asked',\n   'peeped',\n   'a',\n   'sailed',\n   'a',\n   'heard',\n   'what',\n   'fancy',\n   'now',\n   'above',\n   'at',\n   'as',\n   'so',\n   'so,',\n   'led',\n   'the',\n   'three',\n   'as',\n   'as',\n   'can’t',\n   'the',\n   'looked',\n   'punishment',\n   'flew',\n   'or',\n   'the',\n   'put',\n   'couldn’t',\n   'succeeded',\n   'conferred',\n   'the',\n   'as',\n   'like',\n   'as',\n   'as',\n   'what',\n   'as',\n   'kneeling',\n   'as',\n   'as',\n   'called',\n   'talking',\n   'remember',\n   'bet',\n   'got',\n   'the',\n   'seem',\n   'to',\n   'like',\n   'sufficiently',\n   'wait',\n   'the',\n   'simply',\n   'as',\n   'sweet',\n   'a',\n   'now',\n   'have',\n   'a',\n   'those',\n   'such',\n   'laughs',\n   'have',\n   'ache',\n   'looked',\n   'as',\n   'seems',\n   'what',\n   'as',\n   'as',\n   'as',\n   'to',\n   'be',\n   'home',\n   'kept',\n   'davy',\n   'as',\n   'have',\n   'to',\n   'venturing,',\n   'as',\n   'want',\n   'tramped',\n   'pretending',\n   'pretended',\n   'as',\n   'as',\n   'for',\n   'let’s',\n   'to',\n   'thirteen',\n   'gave',\n   'the',\n   'smacks',\n   'by',\n   'where',\n   'dropped',\n   'the',\n   'what',\n   'as',\n   'as',\n   'because',\n   'a',\n   'how',\n   'as',\n   'as',\n   'then',\n   'as',\n   'then',\n   'at',\n   'as',\n   'have',\n   'be',\n   'putting',\n   'stepped',\n   'he',\n   'kept',\n   'to',\n   'put',\n   'got',\n   'took',\n   'reasonably',\n   'to',\n   'come',\n   'longing',\n   'got',\n   'repeating',\n   'as',\n   'according',\n   'to',\n   'as',\n   'man',\n   'been',\n   'like',\n   'as',\n   'brought',\n   'been',\n   'tell',\n   'as',\n   'at',\n   'as',\n   'be',\n   'imagined',\n   'as',\n   'made',\n   'beginning',\n   'slipped',\n   'the',\n   'make',\n   'tired',\n   'that',\n   'feel',\n   'exactly',\n   'as',\n   'come',\n   'like',\n   'goes',\n   'like',\n   'as',\n   'at',\n   'as',\n   'the',\n   'think',\n   'the',\n   'what',\n   'sprang',\n   'to',\n   'from',\n   'then',\n   'the',\n   'you',\n   'waiting,',\n   'as',\n   'love',\n   'worships',\n   'as',\n   'as',\n   'as',\n   'fred',\n   'the',\n   'happen',\n   'as',\n   'got',\n   'how',\n   'and',\n   'have',\n   'as',\n   'kept',\n   'what',\n   'frightened',\n   'at',\n   'like',\n   'sensible',\n   'told',\n   'tired',\n   'the',\n   'tired,',\n   'time',\n   'one',\n   'sit',\n   'like',\n   'a',\n   'to',\n   'across',\n   'opposite',\n   'behind',\n   'now',\n   'beyond',\n   'where',\n   'the',\n   'outside',\n   'as',\n   'as',\n   'as',\n   'nobody',\n   'around',\n   'to',\n   'accept',\n   'fancy',\n   'wanted',\n   'speaking',\n   'two',\n   'as',\n   'before',\n   'now',\n   'two',\n   'on',\n   'let',\n   'at',\n   'the',\n   'what',\n   'what',\n   'now,',\n   'like',\n   'behind',\n   'as',\n   'the',\n   'one',\n   'a',\n   'one',\n   'as',\n   'like',\n   'whip',\n   'like',\n   'for',\n   'see',\n   'thought',\n   'what',\n   'a',\n   'thought',\n   'as',\n   'what',\n   'shut',\n   'then',\n   'at',\n   'tell',\n   'like',\n   'beyond',\n   'go',\n   'the',\n   'the',\n   'to',\n   'came',\n   'the',\n   'where',\n   'right,',\n   'one',\n   'be',\n   'decided',\n   'at',\n   'stated',\n   'the',\n   'as',\n   'copied',\n   'like',\n   'leave',\n   'got',\n   'what',\n   'wanted',\n   'as',\n   'think',\n   'have',\n   'suits',\n   'right,',\n   'been',\n   'her',\n   'to',\n   'now,',\n   'learn',\n   'prowl',\n   'as',\n   'to',\n   'about',\n   'got',\n   'a',\n   'over',\n   'by',\n   'to',\n   'as',\n   'wanted',\n   'as',\n   'fished',\n   'wait,',\n   'then',\n   'across',\n   'as',\n   'as',\n   'cried',\n   'to',\n   'now',\n   'sick',\n   'what',\n   'as',\n   'be',\n   'lovely',\n   'as',\n   'wait,',\n   'a',\n   'wanted',\n   'better',\n   'that',\n   'asked',\n   'as',\n   'kept',\n   'got',\n   'kept',\n   'as',\n   'go',\n   'felt',\n   'as',\n   'felt',\n   'spoke',\n   'didn’t',\n   'tell',\n   'as',\n   'reversed',\n   'letting',\n   'looking',\n   'brain',\n   'now',\n   'think',\n   'one',\n   'went',\n   'cat',\n   'ahead',\n   'be',\n   'iced',\n   'yesterday',\n   'before',\n   'imagine—this',\n   'imagine—this',\n   'now',\n   'now',\n   'the',\n   'what',\n   'been',\n   'been',\n   'knew',\n   'come',\n   'now—i',\n   'the',\n   'now,',\n   'showered',\n   'means',\n   'the',\n   'as',\n   'couldn’t',\n   'the',\n   'long',\n   'one',\n   'took',\n   'after',\n   'the',\n   'want',\n   'be',\n   'as',\n   'so',\n   'about',\n   'after',\n   'seems',\n   'want',\n   'says,',\n   'fancy',\n   'before',\n   'passed',\n   'at',\n   'like',\n   'risen',\n   'now',\n   'for',\n   'as',\n   'as',\n   'as',\n   'as',\n   'kept',\n   'as',\n   'on',\n   'like',\n   'when',\n   'think',\n   'to',\n   'looks',\n   'between',\n   'dress',\n   'because',\n   'sort',\n   'keeps',\n   'like',\n   'about',\n   'vanished—and',\n   'before',\n   'finished',\n   'outside',\n   'going',\n   'how',\n   'out',\n   'after',\n   'call',\n   'that—i',\n   'to',\n   'like',\n   'love',\n   'like',\n   'as',\n   'went',\n   'what',\n   'stuck',\n   'like',\n   'like',\n   'like',\n   'vacant',\n   'been',\n   'what',\n   'make',\n   'get',\n   'remember',\n   'what',\n   'such',\n   'fished',\n   'whisking',\n   'outside',\n   'over',\n   'wasted',\n   'like',\n   'one',\n   'couldn’t',\n   'because',\n   'started',\n   'exactly',\n   'won’t',\n   'another',\n   'the',\n   'now',\n   'returned',\n   'to',\n   'dreamed',\n   'seems',\n   'a',\n   'now',\n   'what',\n   'what',\n   'because',\n   'the',\n   'wanted',\n   'a',\n   'shut',\n   'to',\n   'mother',\n   'felt',\n   'the',\n   'take',\n   'look',\n   'wants',\n   'about',\n   'now',\n   'arrived',\n   'where',\n   'a',\n   'what',\n   'a',\n   'yet—not',\n   'returned',\n   'wrote',\n   'what',\n   'as',\n   'for',\n   'then',\n   'came',\n   'plain',\n   'talk',\n   'stay',\n   'seem',\n   'wish',\n   'looked',\n   'in',\n   'about',\n   'an',\n   'rise',\n   'when',\n   'gave',\n   'a',\n   'like',\n   'be',\n   'shivered',\n   'now,',\n   'stop',\n   'in',\n   'my',\n   'you',\n   'a',\n   'call',\n   'like',\n   'what',\n   'been',\n   'the',\n   'alike,',\n   'have',\n   'quite',\n   'appeared',\n   'mention,',\n   'see',\n   'like',\n   'now',\n   'feel',\n   'because',\n   'the',\n   'punishment',\n   'been',\n   'like',\n   'gave',\n   'what',\n   'looked',\n   'how',\n   'look',\n   'flew',\n   'got',\n   'worshipped',\n   'now,',\n   'see',\n   'come',\n   'as',\n   'step',\n   'exactly',\n   'clap',\n   'went',\n   'enjoy',\n   'got',\n   'think',\n   'can’t',\n   'look',\n   'gave',\n   'keeps',\n   'what',\n   'be',\n   'think',\n   'picked',\n   ...]),\n ('where',\n  ['the',\n   'was',\n   'he',\n   'he’s',\n   'the',\n   'an',\n   'an',\n   'wild',\n   'you',\n   'dogs',\n   'an',\n   'it',\n   'is',\n   'the',\n   'anne',\n   'she',\n   'she',\n   'she',\n   'the',\n   'scores',\n   'the',\n   'on',\n   'the',\n   'were',\n   'it',\n   'a',\n   'did',\n   'katie',\n   'perpetual',\n   'he',\n   'was',\n   'sunshine',\n   'rice',\n   'everything',\n   'did',\n   'she',\n   'the',\n   'all',\n   'the',\n   'there',\n   'there',\n   'the',\n   'the',\n   'do',\n   'do',\n   'she',\n   'strawberry',\n   'ordinary',\n   'lay',\n   'there',\n   'marilla,',\n   'there',\n   'sensations',\n   'she',\n   'a',\n   'the',\n   'sobbed',\n   'have',\n   'a',\n   'matthew',\n   'samuel',\n   'marilla',\n   'your',\n   'i',\n   'a',\n   'were',\n   'had',\n   'she',\n   'maples',\n   'miss',\n   'a',\n   'a',\n   'the',\n   'the',\n   'gilbert',\n   'big',\n   'matthew',\n   'she',\n   'she',\n   'i',\n   'she',\n   'she',\n   'snow',\n   'marilla',\n   'anne',\n   'she',\n   'she',\n   'a',\n   'the',\n   'not',\n   'the',\n   'the',\n   'to',\n   'it',\n   'a',\n   'dark',\n   'a',\n   'mr',\n   'does',\n   'they',\n   'the',\n   'an',\n   'are',\n   'she',\n   'dora',\n   'can',\n   'she',\n   'your',\n   'he',\n   'barbara',\n   'the',\n   'the',\n   'tiny',\n   'it',\n   'the',\n   'the',\n   'the',\n   'a',\n   'the',\n   'silas',\n   'she’d',\n   'she',\n   'white',\n   'jane',\n   'we',\n   'once',\n   'they',\n   'hester',\n   'anne',\n   'it',\n   'heaven',\n   'god',\n   'heaven',\n   'she',\n   'will',\n   'the',\n   'her',\n   'he',\n   'she',\n   'she',\n   'is',\n   'i',\n   'it',\n   'is',\n   'the',\n   'the',\n   'the',\n   'the',\n   'i’d',\n   'the',\n   'credit',\n   'she',\n   'they',\n   'they',\n   'are',\n   'we',\n   'the',\n   'we',\n   'miss',\n   'the',\n   'happy',\n   'the',\n   'people',\n   'to',\n   'its',\n   'our',\n   'she',\n   'mr',\n   'anne',\n   'he',\n   'nobody',\n   'folks',\n   'the',\n   'anne',\n   'every',\n   'are',\n   'paul',\n   'he',\n   'the',\n   'other',\n   'a',\n   'she',\n   'the',\n   'time',\n   'a',\n   'is',\n   'mr',\n   'she',\n   'mr',\n   'airy',\n   'anne',\n   'an',\n   'are',\n   'they',\n   'lost',\n   'memories',\n   'she',\n   'else',\n   'they',\n   'they',\n   'we',\n   'there',\n   'winds',\n   'that',\n   'i',\n   'do',\n   'she',\n   'she',\n   'anne',\n   'are',\n   'cushions',\n   'the',\n   'the',\n   'spofford',\n   'i’ve',\n   'old',\n   'i',\n   'by',\n   'they',\n   'to',\n   'your',\n   'seeds',\n   'she',\n   'averil',\n   'the',\n   'that',\n   'the',\n   'they',\n   'she',\n   'is',\n   'her',\n   'was',\n   'averil',\n   'perceval',\n   'he',\n   'she',\n   'there',\n   'she',\n   'were',\n   'her',\n   'are',\n   'has',\n   'there',\n   'there',\n   'do',\n   'you',\n   'aunt',\n   'a',\n   'it',\n   'marilla',\n   'she',\n   'was',\n   'janet',\n   'his',\n   'are',\n   'is',\n   'no',\n   'she',\n   'she',\n   'one',\n   'they',\n   'the',\n   'mother',\n   'joy',\n   'spices',\n   'the',\n   'work',\n   'dreams',\n   'winds',\n   'lover’s',\n   'you',\n   'my',\n   'i',\n   'it',\n   'are',\n   'not',\n   'there',\n   'they',\n   'he',\n   'i’d',\n   'gilbert',\n   'the',\n   'is',\n   'you',\n   'no',\n   'someone',\n   'gulls',\n   'a',\n   'there’s',\n   'you',\n   'the',\n   'she',\n   'she',\n   'the',\n   'dick',\n   'there',\n   'susan',\n   'they',\n   'the',\n   'all',\n   'the',\n   'the',\n   'owen',\n   'often',\n   'lost',\n   'men',\n   'there',\n   'are',\n   'it',\n   'none',\n   'two',\n   'she',\n   'have',\n   'the',\n   'am',\n   'you',\n   'she',\n   'he',\n   'is',\n   'i',\n   'the',\n   'lost',\n   'the',\n   'she',\n   'the',\n   'only',\n   'mr',\n   'ludovic',\n   'men',\n   'he',\n   'she',\n   'she',\n   'the',\n   'the',\n   'spencervale',\n   'a',\n   'the',\n   'the',\n   'andrew',\n   'every',\n   'the',\n   'hung',\n   'wisdom',\n   'the',\n   'you',\n   'the',\n   'his',\n   'he',\n   'old',\n   'he',\n   'dahlias',\n   'she',\n   'the',\n   'sunshine',\n   'mrs',\n   'she',\n   'there',\n   'will',\n   'stagnant',\n   'the',\n   'does',\n   'is',\n   'is',\n   'one',\n   'the',\n   'i',\n   'ma',\n   'he',\n   'did',\n   'stephen',\n   'the',\n   'has',\n   'are',\n   'the',\n   'she',\n   'she',\n   'he',\n   'is',\n   'are',\n   'she',\n   'the',\n   'she',\n   'he',\n   'tears']),\n ('avonlea',\n  ['main',\n   'and',\n   'housekeepers',\n   'occupied',\n   'people',\n   'and',\n   'today',\n   'houses',\n   'farm',\n   'type',\n   'avonlea',\n   'is',\n   'calls',\n   'but',\n   'little',\n   'school',\n   'school',\n   'schoolboys',\n   'school',\n   'school',\n   'school',\n   'scholars',\n   'school',\n   'where',\n   'people',\n   'knows',\n   'debating',\n   'young',\n   'and',\n   'people',\n   'for',\n   'church',\n   'opened',\n   'housekeepers',\n   'diana',\n   'before',\n   'small',\n   'that',\n   'every',\n   'school',\n   'would',\n   'anne',\n   'scholars',\n   'school',\n   'found',\n   'school',\n   'just',\n   'it',\n   'was',\n   'hills',\n   'to',\n   'with',\n   'and',\n   'school',\n   'in',\n   'school',\n   'junior',\n   'doings',\n   'were',\n   'girls',\n   'at',\n   'scholars',\n   'life',\n   'i',\n   'flavor',\n   'students',\n   'young',\n   'in',\n   'twinkling',\n   'students',\n   'school,',\n   'the',\n   'with',\n   'settled',\n   'school',\n   'that',\n   'the',\n   'school',\n   'graveyard',\n   'lay',\n   'scandal',\n   'school',\n   'school',\n   'he',\n   'took',\n   'than',\n   'had',\n   'ever',\n   'is',\n   'school',\n   'children,',\n   'itself',\n   'existed',\n   'hall,',\n   'were',\n   'and',\n   'is',\n   'is',\n   'anne',\n   'three',\n   'aunt',\n   'scholars',\n   'children',\n   'children',\n   'schoolma’am,',\n   'live',\n   'village',\n   'from',\n   'mr',\n   'this',\n   'when',\n   'and',\n   'house',\n   'people',\n   'taste',\n   'would',\n   'if',\n   'hall',\n   'the',\n   'from',\n   'school',\n   'mrs',\n   'ever',\n   'who',\n   'painted',\n   'knew',\n   'graveyard',\n   'five',\n   'and',\n   'there',\n   'girls—the',\n   'and',\n   'will',\n   'folks',\n   'notes,',\n   'juvenile',\n   'continued',\n   'schoolroom',\n   'folks',\n   'scandal',\n   'people',\n   'for',\n   'a',\n   'i’d',\n   'i',\n   'gossip',\n   'office',\n   'and',\n   'will',\n   'mrs',\n   'girl',\n   'the',\n   'she',\n   'woods',\n   'girls',\n   'this',\n   'and',\n   'had',\n   'while',\n   'pulpit',\n   'i',\n   'said',\n   'andrews',\n   'days,',\n   'and',\n   'with',\n   'had',\n   'a',\n   'school',\n   'is',\n   'jollifications',\n   'that',\n   'ruby',\n   'when',\n   'folks',\n   'would',\n   'in',\n   'before',\n   'at',\n   'summer',\n   'that',\n   'anne',\n   'gossip',\n   'seemed',\n   'all',\n   'now',\n   'was',\n   'school',\n   'gilbert',\n   'days',\n   'news,',\n   'dressmaker',\n   'this',\n   'as',\n   'folks',\n   'folks',\n   'now',\n   'when',\n   'spoiled',\n   'schooldays',\n   'graveyard,',\n   'girls’',\n   'there,',\n   'winds',\n   'for',\n   'graveyard',\n   'a',\n   'the',\n   'last',\n   'sand',\n   'we',\n   'would',\n   'folk',\n   'slopes',\n   'if',\n   'and',\n   'isn’t',\n   'place',\n   'kindly',\n   'as',\n   'to',\n   'for—just',\n   'cemetery',\n   'was',\n   'seven',\n   'her',\n   'people',\n   'people']),\n ('road',\n  ['dipped',\n   'that',\n   'and',\n   'from',\n   'along',\n   'to',\n   'whether',\n   'part',\n   'and',\n   'four',\n   'sounds',\n   'and',\n   'was',\n   'to',\n   'that',\n   'would',\n   'if',\n   'and',\n   'and',\n   'gertie',\n   'half',\n   'she',\n   'or',\n   'i',\n   'stopped',\n   'and',\n   'to',\n   'went',\n   'beyond,',\n   'was',\n   'and',\n   'was',\n   'i',\n   'beyond',\n   'too',\n   'jane',\n   'two',\n   'like',\n   'of',\n   'if',\n   'and',\n   'and',\n   'and',\n   'but',\n   'here',\n   'in',\n   'was',\n   'the',\n   'out',\n   'and',\n   'front',\n   'it',\n   'to',\n   'just',\n   'jordan',\n   'front',\n   'fence',\n   'and',\n   'defaced',\n   'the',\n   'the',\n   'just',\n   'home’',\n   'have',\n   'was',\n   'a',\n   'asked',\n   'except',\n   'through',\n   'and',\n   'were',\n   'front',\n   'front',\n   'fronts',\n   'not',\n   'it’s',\n   'leading',\n   'she',\n   'in',\n   'forked',\n   'to',\n   'do',\n   'sometimes',\n   'she',\n   'and',\n   'as',\n   'he',\n   'grandma',\n   'to',\n   'at',\n   'that',\n   'it',\n   'the',\n   'muddy,',\n   'at',\n   'from',\n   'home,',\n   'a',\n   'with',\n   'next',\n   'station',\n   'schoolma’am',\n   'is',\n   'and',\n   'with',\n   'between',\n   'and',\n   'yet,',\n   'janet',\n   'prayer',\n   'aspires',\n   'home',\n   'i',\n   'a',\n   'but',\n   'was',\n   'that',\n   'asked',\n   'but',\n   'to',\n   'was',\n   'was',\n   'after',\n   'his',\n   'fry—believed',\n   'children',\n   'in',\n   'after',\n   'he',\n   'to',\n   'from',\n   'in',\n   'to',\n   'i',\n   'but']),\n ('dipped', ['down', 'in', 'down'])]"
     ]
    }
   ],
   "source": [
    "#Pairs and list the possible next words\n",
    "model_rdd = text_pairs_of_words_rdd.groupByKey().mapValues(list)\n",
    "model_rdd.take(10)"
   ]
  },
  {
   "cell_type": "markdown",
   "metadata": {
    "application/vnd.databricks.v1+cell": {
     "cellMetadata": {},
     "inputWidgets": {},
     "nuid": "35d465e5-8162-4bca-874c-d387a96b9532",
     "showTitle": false,
     "tableResultSettingsMap": {},
     "title": ""
    }
   },
   "source": [
    "#####Step 3: Generate text using Markov Chain"
   ]
  },
  {
   "cell_type": "code",
   "execution_count": 0,
   "metadata": {
    "application/vnd.databricks.v1+cell": {
     "cellMetadata": {
      "byteLimit": 2048000,
      "rowLimit": 10000
     },
     "inputWidgets": {},
     "nuid": "d497aa04-278c-4256-a178-b7563c76c0f0",
     "showTitle": false,
     "tableResultSettingsMap": {},
     "title": ""
    }
   },
   "outputs": [
    {
     "output_type": "stream",
     "name": "stdout",
     "output_type": "stream",
     "text": [
      "so tired out, and i will have thought out who had to get out to green gables in popular ladies were hovering anxiously to your strawberries we’ll be talking you were a dignity and mr harrison shook her she saw two heroines have his company but the americans from an avonlea folks were the main road sounds so you can it was shelling them out and dust to put them mary joe, up in vain about myself ginger’s profane habits but to it—just like minnie may’s life, said wickedly\n"
     ]
    }
   ],
   "source": [
    "\n",
    "# Generate text using first markov chain\n",
    "def generate_text_rdd(model_rdd, start_word, num_words):\n",
    "    markov_dict = model_rdd.collectAsMap()\n",
    "\n",
    "    current_word = start_word\n",
    "    generated_text = [current_word]\n",
    "\n",
    "    for _ in range(num_words - 1): \n",
    "        if current_word in markov_dict:\n",
    "            next_word = random.choice(markov_dict[current_word])  # Randomly select the next word\n",
    "            generated_text.append(next_word)\n",
    "            current_word = next_word  # Move to the next word\n",
    "        else:\n",
    "            break  # Stop if no next word is found\n",
    "\n",
    "    return ' '.join(generated_text)\n",
    "\n",
    "# Generate a story starting with a first word from the reference text\n",
    "start_word = \"so\"\n",
    "num_words_to_generate = 1606  # Length of the generated story - I want it to mach the length of it to the reference text, which is 1606 words\n",
    "\n",
    "generated_story = generate_text_rdd(model_rdd, start_word, num_words_to_generate)\n",
    "\n",
    "print(generated_story)"
   ]
  },
  {
   "cell_type": "code",
   "execution_count": 0,
   "metadata": {
    "application/vnd.databricks.v1+cell": {
     "cellMetadata": {
      "byteLimit": 2048000,
      "rowLimit": 10000
     },
     "inputWidgets": {},
     "nuid": "efc47640-762b-4b89-acb1-6c6bb73e0c1d",
     "showTitle": false,
     "tableResultSettingsMap": {},
     "title": ""
    }
   },
   "outputs": [
    {
     "output_type": "stream",
     "name": "stdout",
     "output_type": "stream",
     "text": [
      "so little patience with you—but, then, but he’s always warranted to copy you see, miss i feel queerer than a voice went away, hauling potatoes and there would never to spend our trinidad missionary, said aunt olivia was the name mrs rachel sent her some such a glassful of music, only youth but i’m wrong places march, said priscilla looked about alec and clearly, sweetly, over him st john’s bedroom, and corner by her very fond of exquisite grace of a funeral after them she told me by the commonplace as a twinkling, had fallen tree marilla i don’t believe that atoned for a nice dreams i’d never let the place suppose i’ll expect of temper at her ‘mother lavendar’ and captain who died just to make dora’s elbow it was impossible to mar it had held his farm, nor how to anyone, that i work cures like clumps of business to teach you are your eyes roam about the rules the haunted meadows between its ups and brother and an unholy shriek i’ve longed for a wonderful everything hurt awful to see him—a poor, said minnie may’s life, so much—i want to confess, anne asked philippa, but he knows it, any sarcasm than prissy, even talk, while marilla was so tragical thing she was the way i loosed a door shut the remotest possibility surrounding shores are heaps of yours in despair, so this old millionaire who waited for three, and furnished a bad woman to us to and very hard to stop for days later, those two patches as you must come down from them, did oh, beautiful, my dear world needs some surprise of that he knew he used to go in you can’t go to read she has on plots, so pink lady’s soul where she felt real hungry we were presiding there is angelina bennett the rose and anne said to depend on the pitcher of this and you for a prince edward island it would always was close enough to blame, but i hope you’ll have two such a most pleased to them out, but it how do not looked on account for him and fell into the parlor, and hastened back delightedly of my knee and pouring his destination, but if i guess you must go out at it came back porch steps and anne you on his beautiful little joscelyn first place it may turn to jordan’s ring, gilbert, to sunday clothes, placed them left behind her from the time i’ve just come home until after which seldom matthew after twins to ask you had—really—either, she treated roy must be a worse first a romance between table there wasn’t a scant respect but i remain, though his black out, pink tissue of dreams—has conspired to tell before the garret over me about her to tea but it hasn’t it after dancing home one trunk the daytime, but it is, the four winds light soup was just outside the bed, suggested carrie sloane gravely and i have been, gave her hand till you’ve won to tell you can remember when we know, mistress blythe, who was as it is put such a life book this is a rather tartly i admit she looked him down and poured out of merciless in the breath and walked along shore they only old leather bound to say them is not much he turned out of worse things behind mr harrison had reached out of her conscience moaned phil or don’t know if there old maid decided that frightened if it off the bird for all have happened to keep an old gossip, was disappointed, it a wind, and mrs lynde mrs rachel lynde said there’d probably anne related to tell you down beside the mayflowers in bed there may turn to strap smarts longer, said she felt that blewett was leaving him you they’re two lines and she couldn’t i was something strange woman to walk a dancing ripples the time you’re going to be real satisfaction if nothing else into the place i was off as anne may barry household you came out from laughter afar over the child’s she climbed from him up trying to a yankee accent, do you going to mr harrison as the same arguments is ten cents and intellectual looking wistfully after the gusty pine,’ exhaled from the humiliation of the greater severity, get home early strawberries, and what church down, the irony of laughter and had asked dora sends one day was a big, jolly laugh, is not a lazy, liking for me, dear old lady could i never had talked together he will do own flesh on the frosted over this parthian shaft of life in the eighth, and gray abroad from him in the fierce delight in the barge through her clung to phil’s mind, here the better, kinder, more of them for her driving out a person if he said anne wore his wonder how i’m good, independent little house was here like death any one of pie, but i cried mrs allan says it for twenty third person to school to take her, and two respects but it you’re not be said anne dropped her dress is once to himself some day began to think mr matthew bought that we come to me when i’m going to give them do her name, of anything so thick mane of the occasion ma went, not bear taking up to do exclaimed mr baxter he is travelling over before i bruk into the first it whenever catherine andrews did look after a small anne insisted that evening made many, desecrated by five, which was a child of birches of her passionate rebellion against judith stood at the pies his best man there were more thrilling tragedy were in avonlea for him say, however, and his great one who patty has ceased to me, anne solemnly i know girls and god made anything like golden lady occasionally janet got a quite often planned to snuggle down in the time to patty’s place where he would be milton clark he was the one like to know till i’m sure i can trust you were all the gulf water blankly lucinda penhallow side were delightful and when a matter with them miss lavendar was thankful he wanted to the park, and tarts and teacher and peace and which had a church, and the field of a sparkling ribbon around the dawning on the lane it into her own men and would be built it to dizzy spells now and roy, according to take off in with sweet, but alas, no hand in store and, oh, marilla, a moist, scented air of his room one november i suppose you will be real convictions and buried hopes’ that’s a big garrets should be rather scarce mrs barry hunted up a great flower beds made, although mrs lynde is the traces of an alliance with the white one of dark eyes,—the eyes was a bad as long ago, as old beaten cheek on the dyke, overgrown sample it, when i was a faithful to think saying severely: get, anne went away back in the garden sent down over and good deal davy boy but lily of flying forms of her laughter, rocked him she came over to grasp of patient and pies i may i can’t be looking man, be friends you when wandering family asked me friends help thinking she said marilla merry days ago i saw old china plate of the window my husband doesn’t go into the doctor dave upstairs to say and beginning to the storm of those things all those dogs, she passed away to them resignedly, until next tuesday and i hear her opinions forcibly urgency of speech making him all too no i’m a new style myself at the other two hundred and she felt so strong, clean worn face so vain adornment than go because it you’re to me one great capacity for him to shoulder when she did he was killed shrieked the face or shakespeare—even anne and anne went over her pride and doctors’ wives this but overcome by the former understood that dress she knew him, or else i don’t you know she’s perfectly killing her grammar is no right there was a mental dictum, no doubt of doctors, i knew, for it was wrong i’m not imagine them echo lodge asked eagerly, getting a mad it’s the same to sleep there by this enchanted coast, smiled up notes he pretends company’s coming, nor stone house of dark eyes, ivory outlines, and it any fun of good to be anything but turning at all right for little since they topple over the sweetest dress then when the little remorse and the house you how much distracted people cry like him after simple and the night john blythe i’ll never come dancing slendor of comradeship have escaped to tell him bald lines to meet him this girl has got used to have much so they hadn’t any good terms with it—anne, i do for gossip always like other dear baby he was greece or imagined, said slowly i made him on airs she was a day, said marilla anne tossed her was a conversation with dignity, you look a royal babe of growing in your thoughts were really feel that doesn’t look exactly only one minute she heard her father you could not really are others to let him proud of shining eyes had gone out to jane, still when is published, he looked somewhat of white pillow in a\n"
     ]
    }
   ],
   "source": [
    "# new\n",
    "\n",
    "# Generate text using first markov chain\n",
    "def generate_text_rdd(model_rdd, start_word, num_words):\n",
    "    markov_dict = model_rdd.collectAsMap()\n",
    "\n",
    "    current_word = start_word\n",
    "    generated_text = [current_word]\n",
    "\n",
    "    for _ in range(num_words - 1): \n",
    "        if current_word in markov_dict:\n",
    "            next_word = random.choice(markov_dict[current_word])  # Randomly select the next word\n",
    "           \n",
    "        else:\n",
    "            # choose next word from all dictionary\n",
    "            next_word = random.choice(list(markov_dict))\n",
    "            # next_word = random.choice(list(markov_dict.keys()))\n",
    "\n",
    "        generated_text.append(next_word)\n",
    "        current_word = next_word\n",
    "\n",
    "    return ' '.join(generated_text)\n",
    "\n",
    "# Generate a story starting with a first word from the reference text\n",
    "start_word = \"so\"\n",
    "num_words_to_generate = 1606  # Length of the generated story - I want it to mach the length of it to the reference text, which is 1606 words\n",
    "\n",
    "generated_story = generate_text_rdd(model_rdd, start_word, num_words_to_generate)\n",
    "\n",
    "print(generated_story)"
   ]
  },
  {
   "cell_type": "markdown",
   "metadata": {
    "application/vnd.databricks.v1+cell": {
     "cellMetadata": {},
     "inputWidgets": {},
     "nuid": "8d041b9f-f7e0-465a-bd69-ae22b59f63dc",
     "showTitle": false,
     "tableResultSettingsMap": {},
     "title": ""
    }
   },
   "source": [
    "#####Step 4: Prepare data to calculate BLEU Score\n",
    "\n",
    "I convert the reference data and genearted data to have the same format. To achieve that, I transform them into a lists of individual words by splitting the text on whitespace.\n"
   ]
  },
  {
   "cell_type": "code",
   "execution_count": 0,
   "metadata": {
    "application/vnd.databricks.v1+cell": {
     "cellMetadata": {
      "byteLimit": 2048000,
      "rowLimit": 10000
     },
     "inputWidgets": {},
     "nuid": "05535615-3243-41b4-97c4-75e5faf60f22",
     "showTitle": false,
     "tableResultSettingsMap": {},
     "title": ""
    }
   },
   "outputs": [],
   "source": [
    "references = [word for line in reference_text for word in line.split()]\n",
    "generated = generated_story.split()"
   ]
  },
  {
   "cell_type": "markdown",
   "metadata": {
    "application/vnd.databricks.v1+cell": {
     "cellMetadata": {},
     "inputWidgets": {},
     "nuid": "0c91a9c0-2169-4dd9-b15e-61a9a4895990",
     "showTitle": false,
     "tableResultSettingsMap": {},
     "title": ""
    }
   },
   "source": [
    "#####Step 5: Calculate the BLEU Score\n",
    "\n",
    "####What is BLEU Score?\n",
    "According to [Google](https://cloud.google.com/translate/docs/advanced/automl-evaluate):\n",
    "\n",
    "*BLEU (Bilingual Evaluation Understudy) score, which indicates how similar the candidate text is to the reference text. A BLEU score value that is closer to one indicates that a translation is closer to the reference text.*\n",
    "\n",
    "------------------\n",
    "\n",
    "In our scenario, we encountered the following error:  \n",
    "**\"The number of hypotheses and their reference(s) should be the same.\"**\n",
    "\n",
    "This error occurs because the generated text is much shorter than the reference text. The reference text contains 1606 words, but the generated text is significantly shorter. Let’s check the word count of the generated text."
   ]
  },
  {
   "cell_type": "code",
   "execution_count": 0,
   "metadata": {
    "application/vnd.databricks.v1+cell": {
     "cellMetadata": {
      "byteLimit": 2048000,
      "rowLimit": 10000
     },
     "inputWidgets": {},
     "nuid": "a6d060af-6f15-475a-8804-fd1b438cfef8",
     "showTitle": false,
     "tableResultSettingsMap": {},
     "title": ""
    }
   },
   "outputs": [
    {
     "output_type": "display_data",
     "data": {
      "text/plain": [
       "\u001B[0;31m---------------------------------------------------------------------------\u001B[0m\n",
       "\u001B[0;31mAssertionError\u001B[0m                            Traceback (most recent call last)\n",
       "File \u001B[0;32m<command-4115528835488850>:1\u001B[0m\n",
       "\u001B[0;32m----> 1\u001B[0m score \u001B[38;5;241m=\u001B[39m corpus_bleu(references, [generated])\n",
       "\u001B[1;32m      2\u001B[0m \u001B[38;5;28mprint\u001B[39m(score)\n",
       "\n",
       "File \u001B[0;32m/local_disk0/.ephemeral_nfs/envs/pythonEnv-afcca901-9341-48e4-b23d-d7d4b40f69ac/lib/python3.9/site-packages/nltk/translate/bleu_score.py:220\u001B[0m, in \u001B[0;36mcorpus_bleu\u001B[0;34m(list_of_references, hypotheses, weights, smoothing_function, auto_reweigh)\u001B[0m\n",
       "\u001B[1;32m    217\u001B[0m p_denominators \u001B[38;5;241m=\u001B[39m Counter()  \u001B[38;5;66;03m# Key = ngram order, and value = no. of ngram in ref.\u001B[39;00m\n",
       "\u001B[1;32m    218\u001B[0m hyp_lengths, ref_lengths \u001B[38;5;241m=\u001B[39m \u001B[38;5;241m0\u001B[39m, \u001B[38;5;241m0\u001B[39m\n",
       "\u001B[0;32m--> 220\u001B[0m \u001B[38;5;28;01massert\u001B[39;00m \u001B[38;5;28mlen\u001B[39m(list_of_references) \u001B[38;5;241m==\u001B[39m \u001B[38;5;28mlen\u001B[39m(hypotheses), (\n",
       "\u001B[1;32m    221\u001B[0m     \u001B[38;5;124m\"\u001B[39m\u001B[38;5;124mThe number of hypotheses and their reference(s) should be the \u001B[39m\u001B[38;5;124m\"\u001B[39m \u001B[38;5;124m\"\u001B[39m\u001B[38;5;124msame \u001B[39m\u001B[38;5;124m\"\u001B[39m\n",
       "\u001B[1;32m    222\u001B[0m )\n",
       "\u001B[1;32m    224\u001B[0m \u001B[38;5;28;01mtry\u001B[39;00m:\n",
       "\u001B[1;32m    225\u001B[0m     weights[\u001B[38;5;241m0\u001B[39m][\u001B[38;5;241m0\u001B[39m]\n",
       "\n",
       "\u001B[0;31mAssertionError\u001B[0m: The number of hypotheses and their reference(s) should be the same "
      ]
     },
     "metadata": {
      "application/vnd.databricks.v1+output": {
       "arguments": {},
       "data": "\u001B[0;31m---------------------------------------------------------------------------\u001B[0m\n\u001B[0;31mAssertionError\u001B[0m                            Traceback (most recent call last)\nFile \u001B[0;32m<command-4115528835488850>:1\u001B[0m\n\u001B[0;32m----> 1\u001B[0m score \u001B[38;5;241m=\u001B[39m corpus_bleu(references, [generated])\n\u001B[1;32m      2\u001B[0m \u001B[38;5;28mprint\u001B[39m(score)\n\nFile \u001B[0;32m/local_disk0/.ephemeral_nfs/envs/pythonEnv-afcca901-9341-48e4-b23d-d7d4b40f69ac/lib/python3.9/site-packages/nltk/translate/bleu_score.py:220\u001B[0m, in \u001B[0;36mcorpus_bleu\u001B[0;34m(list_of_references, hypotheses, weights, smoothing_function, auto_reweigh)\u001B[0m\n\u001B[1;32m    217\u001B[0m p_denominators \u001B[38;5;241m=\u001B[39m Counter()  \u001B[38;5;66;03m# Key = ngram order, and value = no. of ngram in ref.\u001B[39;00m\n\u001B[1;32m    218\u001B[0m hyp_lengths, ref_lengths \u001B[38;5;241m=\u001B[39m \u001B[38;5;241m0\u001B[39m, \u001B[38;5;241m0\u001B[39m\n\u001B[0;32m--> 220\u001B[0m \u001B[38;5;28;01massert\u001B[39;00m \u001B[38;5;28mlen\u001B[39m(list_of_references) \u001B[38;5;241m==\u001B[39m \u001B[38;5;28mlen\u001B[39m(hypotheses), (\n\u001B[1;32m    221\u001B[0m     \u001B[38;5;124m\"\u001B[39m\u001B[38;5;124mThe number of hypotheses and their reference(s) should be the \u001B[39m\u001B[38;5;124m\"\u001B[39m \u001B[38;5;124m\"\u001B[39m\u001B[38;5;124msame \u001B[39m\u001B[38;5;124m\"\u001B[39m\n\u001B[1;32m    222\u001B[0m )\n\u001B[1;32m    224\u001B[0m \u001B[38;5;28;01mtry\u001B[39;00m:\n\u001B[1;32m    225\u001B[0m     weights[\u001B[38;5;241m0\u001B[39m][\u001B[38;5;241m0\u001B[39m]\n\n\u001B[0;31mAssertionError\u001B[0m: The number of hypotheses and their reference(s) should be the same ",
       "errorSummary": "<span class='ansi-red-fg'>AssertionError</span>: The number of hypotheses and their reference(s) should be the same ",
       "errorTraceType": "ansi",
       "metadata": {},
       "type": "ipynbError"
      }
     },
     "output_type": "display_data"
    }
   ],
   "source": [
    "score = corpus_bleu(references, [generated])\n",
    "print(score)"
   ]
  },
  {
   "cell_type": "code",
   "execution_count": 0,
   "metadata": {
    "application/vnd.databricks.v1+cell": {
     "cellMetadata": {
      "byteLimit": 2048000,
      "rowLimit": 10000
     },
     "inputWidgets": {},
     "nuid": "78205d2d-b4b4-4175-b254-2859130b25ab",
     "showTitle": false,
     "tableResultSettingsMap": {},
     "title": ""
    }
   },
   "outputs": [
    {
     "output_type": "stream",
     "name": "stdout",
     "output_type": "stream",
     "text": [
      "Reference has 1606 words \nGenerated has 89 words\n"
     ]
    }
   ],
   "source": [
    "print(f\"Reference has {len(references)} words \\nGenerated has {len(generated)} words\")"
   ]
  },
  {
   "cell_type": "markdown",
   "metadata": {
    "application/vnd.databricks.v1+cell": {
     "cellMetadata": {},
     "inputWidgets": {},
     "nuid": "687974a0-a9fe-4f89-87d7-c47914261b49",
     "showTitle": false,
     "tableResultSettingsMap": {},
     "title": ""
    }
   },
   "source": [
    "This approach has a limitation due to its stop condition: if no next word is found, the text generation stops prematurely.\n",
    "\n",
    "To address this, I extend the approach by introducing a fallback logic.\n",
    "\n",
    "## First Markov Chain with Fallback Method\n",
    "\n",
    "The key difference in this method lies in how the next word is chosen. If no valid next word is found in the model, a fallback word is used instead. For this implementation, I have manually defined the fallback word as `\"the\"`. This choice is based on its frequent usage in English, making it a reasonable and versatile default option.\n"
   ]
  },
  {
   "cell_type": "code",
   "execution_count": 0,
   "metadata": {
    "application/vnd.databricks.v1+cell": {
     "cellMetadata": {
      "byteLimit": 2048000,
      "rowLimit": 10000
     },
     "inputWidgets": {},
     "nuid": "bfbc48be-9220-466e-a1bc-fafdbe0f6dda",
     "showTitle": false,
     "tableResultSettingsMap": {},
     "title": ""
    }
   },
   "outputs": [
    {
     "output_type": "stream",
     "name": "stdout",
     "output_type": "stream",
     "text": [
      "so much thinking of feeling to be out and thank you know i’ll go on it will hardly ever broken up yet full of that was having to quote it would be real diamond cluster of pearl beads compared their delicacy of his, and slipped it is not to help him if he had been in that matched her very important building of fear was listening to wait two off to the kitchen the roses of her lustrous in and fiercely, and then the wolf in his vaccination had been expecting some specious pretense but i don’t know, nodded about davy’s manners left out with scornful looking at this did anyone make funny aunt olivia she might be ashamed of barry’s nowhere having suffered by him and speech i couldn’t understand right had to have a very many, said miss cuthbert in a cry tommy sloane to hear about nine that you he knocked over there for leslie slowly, stiffly, falteringly, are themselves away safe and yet but please do it was coming out by yourself i like to look tired, and bright red ribbons and help you see, i leave the boy she had given much understanding her, deferred until we know they passed away oh, i believe myself down stairs scrubbed to orchard which she takes anne kept at first and susan, have so, agreed judson, imagining too much he had not going to put love it is friday night i never be adopted, and wonder if she was very sorry she likes to the garden until that went over a rich red, and not the girls had ever suffered to worry worrying y’see, there isn’t a stricter teacher had discovered that, while you have real live up to sleep an awful lot of the core of a child, don’t laugh at the far between their credulous expense and eyes this world that being a dozen times as they wandered over a short again i don’t like to fathom this back on the young man had their breath as roses and unprovoked battles with big, jolly to live—and it is a chalk and couldn’t help that is mrs lynde is written the hall anne was your flower to discover for fifteen years ago, but i only teach last mr blair, what that had changed a letter from prayer after that i think you’ll never without making fun yes, em’line’s gone to it is latin, diana did get up to the two children behaved bad days and had dreamed of weird and see the stone house for he would come, cornelia, how you to be spoken—only felt that moment there was not quite as bad as if he’d sent word that afternoon i don’t know if he should have another of laughter of them up, i’m going—and i don’t take any sense of course, i shall plant a month before all went into the pigpen fence, but eventually left queen’s told anybody else’s promised, so deeply in on his mother the mountains with the boys at the auctioneer, wiping her in last night, when you suppose you we’ll sow seeds and dimly lighted only squealed once, but i like this, murmured when all’s said nothing was ’cause you’re to work, shaping the world with real, does sometimes i believe me last was trying to its nearest chair rungs—and all fluttered miss lavendar never will, and mrs peter sloane, said that she was not drawing rails at william sarcastically whereupon davy was half hidden by the roof leaked out, ludovic won’t be to that could have yours you are the big sigh of course but perhaps we fished and the ground she pushed geraldine seymour who is merely like to the parting birds, deep, deadly earnest striving after him one friday evening, said marilla told me at the shore, and julia bell’s bow at ease than twenty years, and please i do with aunt jamesina came when she came home that leslie and mighty dusty rafters of fancy his toilet, and returned anne rather go in the poor stiff by a lot nor ten cents where the two miles behind a handkerchief and blood run anne was why don’t say that perhaps they are you see i’m sure andrew cameron’s double dealing, in all summer vacations would you sit at once upon it whispered anne but i couldn’t sell it, anne stared at it they find it is well able to you, said a clasp of the table with the house, she never said why don’t these last shining waves looked at all those of it but matthew that she led from carmody cheese so shocked and stephen’s boy, she had to sight then don’t see that hester gray’s hands—that held the sky, flowering with a deadly chill spring with shape of her little while the top of tears i are bribing people they made her snowy curves and helped the unconscious that and turned her toilet rites presently found time came out to visit with the sun i quite shocked when she was kinder brought my little jem had been a big, sweet, impulsive caresses the bridge before his house, anne never get all about it—the only one, so red velvet and there is a possible lovers had always been in her like without overbrimming the truth i might call him on the pines, and come after this when your wife enthusiastically, adding by what josie pye one ambition was too when you’re a bride had closed sitting tailor fashion again with captain jim was born it’s true that fateful yes our own now, i want you look on her go anywhere near scared he brought vividly as you hinted they can see if the ‘mirk midnight’ and discharged her avowed one end of silken array of shining eyes over four winds i didn’t approve of course your cow like if i told me when he was before all she’s so aunty nan gave herself with white hand out again it’s only ones this she could hold not the ones thanks be, since i found it was flushed, her legs well, that to bed to recite, ‘the handsome and none realized it hurts me horatio reeve was a gleam of the most fearfully wide was very eyes and announced this one wee bit shocked, anne stay and wakens me last night before i said anne the light that providence ever a little i promise, grandfather can’t expect to keep her surprise to his sister and the class license in the moral inconsequently she had rushed across the open it is a spasm if this world you’ve got the world cannot tell you two, you were dreadfully alone it’s delightful consciousness of course, and a feather bed early red but there’s nothing could change with scornful face reflected it was just once—joscelyn, whose name like them, while the world and clearings in the delicious thing twice a personal qualities, i’m i’m afraid it won’t sell a telegram from getting gain you can’t tell me if ever got to see some of a sore point to tell her time they do not the morning, coming out one so very glad welcome to have thrown to mr and seven tiny freckles were heaped with the pye girls i’ve ached with her traveling it won’t be given to give his time, anne, because it’s it’s foolish notes there, too, but they have spoken—but it seems such things but in the short as well as soon as strong he’s going to be glad when anne could live asked him so, when you really sorry, but the wedding veil from its window a month last redmond i won’t harden and insisted on the spring attire laughed until she quoted anne felt her like a curly hair very heart all the old lady graciously—she always sending out of august afternoon the long ago and ecstasies of humor getting fatter, though giddy, and i’m afraid of the consultation, matthew was so steep bank like silver sand hills and tender and to let live for she would be restored to speak, and then he’s so much in the happiest boy but i should indulge in the end came to be by way to see diana it’s worth while she amuses me, grandfather, he forgot what your story a plump birds to the crest, where she was born yesterday they drove home and up when i conclude to write stories years old, but oh, i put your speeches, said anne, i helped him, fresh enthusiasms, her inner consciousness that was undeniably glad i’ve did i feel what freak resemblances you to anne’s bed he might let the smallpox and the sun had it suddenly kindled a deadly chill i face god guide and anne looked like a matter with now i never allow it makes me it’s very much he has some day except to college course that a man went to bring home mrs morgan i’d let on which are the two boys were changed it loveliness in white door with a rather haughtily as she said she, but mr barry being caught in through me, that strange do in her head of ludovic asked to the fire on speaking of the night now, when it is that was his eye you’ll win the minister or the station master she almost too pleased when they were the sorrel mare, commanded mrs rachel says he said i ever so pressing, perhaps she exclaimed the glass over to her eyes were prince comes to include you, cried into her just as dick’s aunt jamesina solemnly if\n"
     ]
    }
   ],
   "source": [
    "def generate_text_rdd_with_fallback(model_rdd, start_word, num_words, fallback_word=\"the\"):\n",
    "    markov_dict = model_rdd.collectAsMap()\n",
    "\n",
    "    current_word = start_word\n",
    "    generated_text = [current_word]\n",
    "\n",
    "    for _ in range(num_words - 1):  \n",
    "        if current_word in markov_dict and markov_dict[current_word]:  # Check if there are valid next words\n",
    "            next_word = random.choice(markov_dict[current_word])\n",
    "        else:\n",
    "            next_word = fallback_word  # Use the fallback word if no transitions are available\n",
    "\n",
    "        generated_text.append(next_word)\n",
    "        current_word = next_word\n",
    "\n",
    "    return ' '.join(generated_text)\n",
    "\n",
    "# Generate a story\n",
    "start_word = \"so\"\n",
    "num_words_to_generate = 1606\n",
    "\n",
    "generated_story = generate_text_rdd_with_fallback(model_rdd, start_word, num_words_to_generate)\n",
    "print(generated_story)\n"
   ]
  },
  {
   "cell_type": "code",
   "execution_count": 0,
   "metadata": {
    "application/vnd.databricks.v1+cell": {
     "cellMetadata": {
      "byteLimit": 2048000,
      "rowLimit": 10000
     },
     "inputWidgets": {},
     "nuid": "7311f99b-e115-4e92-a35c-631671e21052",
     "showTitle": false,
     "tableResultSettingsMap": {},
     "title": ""
    }
   },
   "outputs": [
    {
     "output_type": "stream",
     "name": "stdout",
     "output_type": "stream",
     "text": [
      "Reference has 1606 words \nGenerated has 1606 words\n"
     ]
    }
   ],
   "source": [
    "references = [word for line in reference_text for word in line.split()]\n",
    "generated = generated_story.split()\n",
    "\n",
    "print(f\"Reference has {len(references)} words \\nGenerated has {len(generated)} words\")"
   ]
  },
  {
   "cell_type": "code",
   "execution_count": 0,
   "metadata": {
    "application/vnd.databricks.v1+cell": {
     "cellMetadata": {
      "byteLimit": 2048000,
      "rowLimit": 10000
     },
     "inputWidgets": {},
     "nuid": "0c44cfc9-636d-42a4-b12b-d45b23393d58",
     "showTitle": false,
     "tableResultSettingsMap": {},
     "title": ""
    }
   },
   "outputs": [
    {
     "output_type": "stream",
     "name": "stdout",
     "output_type": "stream",
     "text": [
      "Generated BLEU score: 8.17147163445869e-232\n"
     ]
    },
    {
     "output_type": "stream",
     "name": "stderr",
     "output_type": "stream",
     "text": [
      "/local_disk0/.ephemeral_nfs/envs/pythonEnv-ddb53df3-afc7-40da-8053-d7b98533fdb8/lib/python3.9/site-packages/nltk/translate/bleu_score.py:577: UserWarning: \nThe hypothesis contains 0 counts of 2-gram overlaps.\nTherefore the BLEU score evaluates to 0, independently of\nhow many N-gram overlaps of lower order it contains.\nConsider using lower n-gram order or use SmoothingFunction()\n  warnings.warn(_msg)\n/local_disk0/.ephemeral_nfs/envs/pythonEnv-ddb53df3-afc7-40da-8053-d7b98533fdb8/lib/python3.9/site-packages/nltk/translate/bleu_score.py:577: UserWarning: \nThe hypothesis contains 0 counts of 3-gram overlaps.\nTherefore the BLEU score evaluates to 0, independently of\nhow many N-gram overlaps of lower order it contains.\nConsider using lower n-gram order or use SmoothingFunction()\n  warnings.warn(_msg)\n/local_disk0/.ephemeral_nfs/envs/pythonEnv-ddb53df3-afc7-40da-8053-d7b98533fdb8/lib/python3.9/site-packages/nltk/translate/bleu_score.py:577: UserWarning: \nThe hypothesis contains 0 counts of 4-gram overlaps.\nTherefore the BLEU score evaluates to 0, independently of\nhow many N-gram overlaps of lower order it contains.\nConsider using lower n-gram order or use SmoothingFunction()\n  warnings.warn(_msg)\n"
     ]
    }
   ],
   "source": [
    "# Evaluate BLEU score\n",
    "references = [reference_text]\n",
    "generated = generated_story.split()\n",
    "\n",
    "score = corpus_bleu(references, [generated])\n",
    "print(\"Generated BLEU score:\", score)\n",
    "\n",
    "#warning message:"
   ]
  },
  {
   "cell_type": "markdown",
   "metadata": {
    "application/vnd.databricks.v1+cell": {
     "cellMetadata": {},
     "inputWidgets": {},
     "nuid": "a50ff14a-784f-42b2-8cf6-99e906d67295",
     "showTitle": false,
     "tableResultSettingsMap": {},
     "title": ""
    }
   },
   "source": [
    "The calculated BLEU score is extremely low (`Generated BLEU score: 8.17147163445869e-232`), which is effectively close to zero.\n",
    "\n",
    "This result indicates that the generated text has almost no overlap with the reference text, especially for higher-order n-grams.\n",
    "\n",
    "---\n",
    "\n",
    "#### **What are N-grams?**\n",
    "\n",
    "N-grams are continuous sequences of words of length **N**, used to capture relationships between words in a sequence.\n",
    "\n",
    "---\n",
    "\n",
    "#### **Example**\n",
    "Consider the sentence from our data:  \n",
    "*\"there are plenty of people in avonlea\"*\n",
    "\n",
    "- **Unigrams:**  \n",
    "  `['there', 'are', 'plenty', 'of', 'people', 'in', 'avonlea']`\n",
    "  \n",
    "- **Bigrams:**  \n",
    "  `['there are', 'are plenty', 'plenty of', 'of people', 'people in', 'in avonlea']`\n",
    "  \n",
    "- **Trigrams:**  \n",
    "  `['there are plenty', 'are plenty of', 'plenty of people', 'of people in', 'people in avonlea']`\n",
    "\n",
    "---\n",
    "\n",
    "#### **Smoothing Function**\n",
    "The warning message suggests applying a `SmoothingFunction` to address the lack of higher-order n-grams. This function prevents the BLEU score from dropping to zero by adjusting the penalization for missing higher n-grams, ensuring a more balanced evaluation of the generated text.\n",
    " \n"
   ]
  },
  {
   "cell_type": "code",
   "execution_count": 0,
   "metadata": {
    "application/vnd.databricks.v1+cell": {
     "cellMetadata": {
      "byteLimit": 2048000,
      "rowLimit": 10000
     },
     "inputWidgets": {},
     "nuid": "920c6a19-040b-489a-9e52-566c4c15d304",
     "showTitle": false,
     "tableResultSettingsMap": {},
     "title": ""
    }
   },
   "outputs": [
    {
     "output_type": "stream",
     "name": "stdout",
     "output_type": "stream",
     "text": [
      "Generated BLEU score: 0.0003146941887548595\n"
     ]
    }
   ],
   "source": [
    "# Evaluate BLEU score\n",
    "smoothing_function = SmoothingFunction().method1\n",
    "score = corpus_bleu(references, [generated], smoothing_function=smoothing_function)\n",
    "\n",
    "print(\"Generated BLEU score:\", score)\n",
    "# Generated BLEU score: 0.0003146941887548595\n"
   ]
  },
  {
   "cell_type": "markdown",
   "metadata": {
    "application/vnd.databricks.v1+cell": {
     "cellMetadata": {},
     "inputWidgets": {},
     "nuid": "15a9b3d6-982d-484a-be22-4ee982505962",
     "showTitle": false,
     "tableResultSettingsMap": {},
     "title": ""
    }
   },
   "source": [
    "## Second-Order Markov Chain\n",
    "\n",
    "A **Second-Order Markov Chain** is an extention of the First Order Markov Chain logic, by considering more context when predicting the next word. \n",
    "\n",
    "#### How It Differs from a First-Order Markov Chain\n",
    "It predicts the next word based on the **current word and the word before it**.  \n",
    "\n",
    "Advantages:\n",
    "- it captures more context\n",
    "- it reduces randomness in the text generation, because next possible words are narrowed"
   ]
  },
  {
   "cell_type": "code",
   "execution_count": 0,
   "metadata": {
    "application/vnd.databricks.v1+cell": {
     "cellMetadata": {
      "byteLimit": 2048000,
      "rowLimit": 10000
     },
     "inputWidgets": {},
     "nuid": "56782c8e-1edb-4493-82fd-d312fa17921c",
     "showTitle": false,
     "tableResultSettingsMap": {},
     "title": ""
    }
   },
   "outputs": [
    {
     "output_type": "stream",
     "name": "stdout",
     "output_type": "stream",
     "text": [
      "Out[20]: [('mrs', 'rachel', 'lynde'),\n ('rachel', 'lynde', 'is'),\n ('lynde', 'is', 'surprised'),\n ('mrs', 'rachel', 'lynde'),\n ('rachel', 'lynde', 'lived'),\n ('lynde', 'lived', 'just'),\n ('lived', 'just', 'where'),\n ('just', 'where', 'the'),\n ('where', 'the', 'avonlea'),\n ('the', 'avonlea', 'main')]"
     ]
    }
   ],
   "source": [
    "def function(paragraph):\n",
    "    list_words = paragraph.lower().split()\n",
    "    list_triples = []\n",
    "    previous1 = ''\n",
    "    previous2 = ''\n",
    "    \n",
    "    for item in list_words:\n",
    "        if previous1 and previous2:\n",
    "            list_triples.append((previous2, previous1, item))\n",
    "        previous2 = previous1\n",
    "        previous1 = item\n",
    "        \n",
    "    return list_triples\n",
    "\n",
    "word_triples_rdd = cleaned_rdd.flatMap(function)\n",
    "\n",
    "#Triples look like the following:\n",
    "word_triples_rdd.take(10)"
   ]
  },
  {
   "cell_type": "code",
   "execution_count": 0,
   "metadata": {
    "application/vnd.databricks.v1+cell": {
     "cellMetadata": {
      "byteLimit": 2048000,
      "rowLimit": 10000
     },
     "inputWidgets": {},
     "nuid": "2f97ce30-f47f-423f-bb5f-204eec4eaed4",
     "showTitle": false,
     "tableResultSettingsMap": {},
     "title": ""
    }
   },
   "outputs": [
    {
     "output_type": "stream",
     "name": "stdout",
     "output_type": "stream",
     "text": [
      "Out[21]: [(('rachel', 'lynde'),\n  ['is',\n   'lived',\n   'was',\n   'did',\n   'is',\n   'got',\n   'are',\n   'had',\n   'was',\n   'for',\n   'said',\n   'had',\n   'was',\n   'was',\n   'drove',\n   'would',\n   'came',\n   'to',\n   'she’s',\n   'beats',\n   'if',\n   'would',\n   'would',\n   'said',\n   'scornfully',\n   'would',\n   'since',\n   'said',\n   'was',\n   'when',\n   'would',\n   'afterwards',\n   'have',\n   'and',\n   'sent',\n   'as']),\n (('lynde', 'is'),\n  ['surprised',\n   'properly',\n   'away',\n   'a',\n   'a',\n   'feeling',\n   'a',\n   'gone',\n   'a',\n   'a—']),\n (('lynde', 'lived'), ['just']),\n (('lived', 'just'), ['where']),\n (('just', 'where'),\n  ['the', 'the', 'the', 'the', 'we', 'her', 'the', 'the', 'he']),\n (('road', 'dipped'), ['down'])]"
     ]
    }
   ],
   "source": [
    "\n",
    "# Create the model\n",
    "model_rdd = word_triples_rdd.map(lambda triple: ((triple[0], triple[1]), triple[2])).groupByKey().mapValues(list)\n",
    "\n",
    "model_rdd.take(6)\n"
   ]
  },
  {
   "cell_type": "markdown",
   "metadata": {
    "application/vnd.databricks.v1+cell": {
     "cellMetadata": {},
     "inputWidgets": {},
     "nuid": "229944dd-11ed-4810-9eb4-d06fb08d282e",
     "showTitle": false,
     "tableResultSettingsMap": {},
     "title": ""
    }
   },
   "source": [
    "Since the Second-Order Markov Chain takes two words into consideration when predicting the next word, we can initialize the text generation process by providing the first two words from the reference text. \n"
   ]
  },
  {
   "cell_type": "code",
   "execution_count": 0,
   "metadata": {
    "application/vnd.databricks.v1+cell": {
     "cellMetadata": {
      "byteLimit": 2048000,
      "rowLimit": 10000
     },
     "inputWidgets": {},
     "nuid": "1e0ac596-319b-4ae7-95df-545a17f145cd",
     "showTitle": false,
     "tableResultSettingsMap": {},
     "title": ""
    }
   },
   "outputs": [
    {
     "output_type": "stream",
     "name": "stdout",
     "output_type": "stream",
     "text": [
      "so you just accept philippa gordon, greeting\n"
     ]
    }
   ],
   "source": [
    "def generate_text_trigram(model_rdd, start_word1, start_word2, num_words):\n",
    "    current_word1 = start_word1\n",
    "    current_word2 = start_word2\n",
    "    generated_text = [current_word1, current_word2]\n",
    "    \n",
    "    for _ in range(num_words - 2):  # (We already have the first two words)\n",
    "        # Get the list of possible next words for the current two words\n",
    "        next_word_rdd = model_rdd.filter(lambda pair: pair[0] == (current_word1, current_word2)) \\\n",
    "                                  .map(lambda filtered_pair: random.choice(filtered_pair[1]))\n",
    "        \n",
    "        next_word_list = next_word_rdd.take(1)\n",
    "        \n",
    "        if next_word_list:\n",
    "            next_word = next_word_list[0]\n",
    "            generated_text.append(next_word)\n",
    "            current_word1, current_word2 = current_word2, next_word \n",
    "        else:\n",
    "            break  \n",
    "\n",
    "    return ' '.join(generated_text)\n",
    "\n",
    "start_word1 = \"so\"  # First word\n",
    "start_word2 = \"you\"\n",
    "num_words_to_generate = 1606\n",
    "\n",
    "generated_story_trigram = generate_text_trigram(model_rdd, start_word1, start_word2, num_words_to_generate)\n",
    "\n",
    "print(generated_story_trigram)"
   ]
  },
  {
   "cell_type": "markdown",
   "metadata": {
    "application/vnd.databricks.v1+cell": {
     "cellMetadata": {},
     "inputWidgets": {},
     "nuid": "aa52bdb9-96da-4fdd-8f9d-7519edd4c877",
     "showTitle": false,
     "tableResultSettingsMap": {},
     "title": ""
    }
   },
   "source": [
    "##Fallback Approach on Second-Order Markov Chain\n",
    "\n",
    "In the generated output above, we observe that the story is very short. This happens because the model stops generating text whenever it fails to find a valid next word for a given sequence. To adress this limitation, once again, I implement a fallback mechanism.\n"
   ]
  },
  {
   "cell_type": "code",
   "execution_count": 0,
   "metadata": {
    "application/vnd.databricks.v1+cell": {
     "cellMetadata": {
      "byteLimit": 2048000,
      "rowLimit": 10000
     },
     "inputWidgets": {},
     "nuid": "4458f346-c8ef-4195-bda0-610dc0f8eb7b",
     "showTitle": false,
     "tableResultSettingsMap": {},
     "title": ""
    }
   },
   "outputs": [
    {
     "output_type": "stream",
     "name": "stdout",
     "output_type": "stream",
     "text": [
      "so you may do for a small bottle partially filled with the over harbor people, laughed and subsided into silence over a farmers’ advocate on the occasion and showed no desire whatever to publish abroad the next door came over to see leslie before i opened it was hardly a spellbound princess, laughed diana i don’t know what i said, but something always occurred to her hair in the sitting room she had dreamed they will spend the time you don’t come half often enough on my head against your knee that’s the first time he comes and i have two delightful old china had explored spencervale, and, getting word of judgment and comparison not that i made allowances for her will be left at the open door to see them as a fat woman who has been it’s been preying on my lap i won’t be the neighbor whom anne had made a pudding that was unfortunately true it seems that he is my dress is a reduced gentlewoman, explained miss barry gave diana currant wine instead of wakening him up in the parlor is tiny and neat and pretty i made up her mouth was sweet with the most interesting, is to yearn desperately one hour for something i feel that way last winter and spending so much nicer than going round by the old lady lloyd looked uncommonly white and green ears those dogs captured anne’s fancy on the future outside the lane, so marilla bought a lovely day but i’m dreadfully far behind anne and diana rowed the delighted twins down the lane, wherein sat mr harrison haul dulse this morning, while the sorrows god sent us brought comfort and strength with them, and she trembled violently who—who could this pale woman with a quite unnecessary proceeding, for green gables she said curtly the the glossy waves of light, a certain weary stork flew over the arched gateway of patty’s place lately the the glossy waves of her shoulder marilla would have made your blood run cold, my dear, wee man picture to yourself this world is getting worse every day we are going to bring up little boys, especially when she came to be doing uncle abe really has predicted a storm for sometime this spring, you understand and forgive he was always sarcastic after any self betrayal the the glossy waves of her cheeks was hectically brilliant besides, she was just thirteen she stayed until marilla came briskly forward as matthew and marilla didn’t think lucinda was not on the kitchen door if ever anything was lacking in manly beauty anne would have given you the china tray but i’m a coward, mistress blythe—i’ve looked an ugly man fancy me coming down the aisle the sunday school, and was staring at matthew the whole effect was quite true overcome by the roots everybody looked at me in mind of somebody i put a spoonful in too, when i’ve finished these exercises i’ll run down by the back porch nobody went near it thank goodness air and music of bird calls and the concluding chapter of accidents the the glossy waves of light, just over the meadow beyond the harbor head in a silence fell a very ladylike girl, miss barry was here this evening besides, davy is developing into a woman like that never go to college, said mrs barry, going in to tell matthew about it, said anne thoughtfully it would be useful in looking after the hall and up to marilla as soon as you can give you a bluenose after all she was wedged in between a stout lady in a hurry to begin with either and you should see it, all draped in white sands with that taste in my life, i openly lost my temper that’s something to this i don’t know that when he heard that you should show more spirit, janet, she went to the graveyard she is very bad combination, anne but i think there are wonderful tidies on the shore lay clean washed after the football match the spring, you know how he had not been such a roll to it—just like a human being that i was in, especially if i don’t want to i was when i was imagining that i never heard before that jonas would ever have ventured near those quilts, for they may be when i’m such an air of one freak she takes terrible spells it keeps on as an unwarranted putting in my big house with groups of two large platefuls of it, and then this queer jealous streak cropped out in a terrible storm i guess you’re all right she asked me not to depend on our way back home as she can, she reflected she looks very cross, and she considered it her pointed freckled face looking as gilbert worked fractions as if he were thinking of it by one on each evening the cat will be dead, said anne, plucking up heart of a grim expression she was really quite unstrung, for the third now i felt sure he listened to it when we are seniors in february and mine oh, marilla, how can you eat when the old track the common, ignorant folks is travelling but he’ll get over that aspect of the project gutenberg ebook 1354 *** the the glossy waves of her betrothal many vigils of joy and never expected to get a wife i’d like to see peggy and i thought this very night the east gable, a lonely, eccentric age the the glossy waves of light, just over the way to be done, said aunt jamesina rather severely kittens have to write about, but that was to be a lifelong sorrow but it died grandma says we should be cross with me, mrs douglas is mum she is halting between two opinions and only the geometry exam comes off and leave ’em to starve another time the silence here is me, who never expects to be removed, the dishes if a man’s heart is broken you’ll feel differently about a lady teacher but i saw her, had grown too dark why, it’s only a lad, and i’d like to have a monopoly of temper, is there, mrs blythe, dearie, she said it to be sure, the improvers had decided to give her a present matthew, with beads of perspiration standing on the nose thereof her mirror before she succeeded in making them sit with the others, enjoying the sweetness of forgotten things clung to me i suppose she has something else something ugly and repulsive the the glossy waves of her sight he was a mere passing from one little maiden dream would the painful process go on living you’ll get into as much to laugh good naturedly at phil now, what have you ever seen him his supper as soon as she left the tall, slim girl with the first compliment i have to read much or do any good oh, don’t use that word, lionel hezekiah, what have you back again for history in the rural community of taste and viewpoint were sadly lacking anne’s disapproval of those cowards would tell me all about her and that she had crossed the main road just above my head i’ll be heartily glad when i think i will, mrs doctor, the subjects for conversation would be surprised at you closely you seem more homey everyone in four winds if he knew when i was thankful to make a complete confession—i’ve been sorry ever since leaving queen’s, but his hands were big, trim barns behind it, solemnly fished it up, and i came to the dishcloth then she sighed immediately afterwards the the glossy waves of her doing, clapping her hands shaken vigorously she was amusing herself as with ocean jewels beyond lay the harbor, in the cellar davy accompanied each of them while i go out alone, she said tillie boulter was real glad she did not even the white way of saying it for the vulgar name but the moon and almost every evening now, at patty’s place, removing the spring witch work even in winter days to having his face reddened and he said the old lady would have admitted to mrs allan was awaiting them the best into it was an old maid in millersville now, and grandchildren climbing over him the strength it should be, from something i won’t look matronly but no broom was visible in the barry household until the early breakfast the next winter i’ll miss the new students, learning to know it she had never expected to get money for them miss josephine barry would have been read at your gate that last night that i wouldn’t pester editors with it and the house when the service was over did you touch it said anne mournfully i’m noted for that old ninny to me, said leslie, but i thought anybody who was trying to have you ever noticed, asked anne the trouble in life again she pulled her arm about anne’s frequent visits, and declared she would not be told of him to confess because i was fair staggered, mistress blythe bring master davy down to the waves that were heaping up just now my weary pilgrimage will soon be in avonlea mrs lynde coming here tomorrow, anne the floor in petticoats’ that squelched him, believe me, and i’d be worried if ‘twas my daughter that was certain she doesn’t have to drop out next year, after all, i dare say there’ll be no more really it than\n"
     ]
    }
   ],
   "source": [
    "def generate_text_trigram_with_fallback(model_rdd, start_word1, start_word2, num_words, fallback_word=\"the\"):\n",
    "    markov_dict = model_rdd.collectAsMap()\n",
    "\n",
    "    current_word1 = start_word1\n",
    "    current_word2 = start_word2\n",
    "    generated_text = [current_word1, current_word2]\n",
    "\n",
    "    for _ in range(num_words - 2):  \n",
    "        if (current_word1, current_word2) in markov_dict and markov_dict[(current_word1, current_word2)]:\n",
    "            next_word = random.choice(markov_dict[(current_word1, current_word2)])\n",
    "        else:\n",
    "            next_word = fallback_word  # Use the fallback word if no transitions are available\n",
    "\n",
    "        generated_text.append(next_word)\n",
    "        current_word1, current_word2 = current_word2, next_word  # Move to the next pair\n",
    "\n",
    "    return ' '.join(generated_text)\n",
    "\n",
    "start_word1 = \"so\"  \n",
    "start_word2 = \"you\"\n",
    "num_words_to_generate = 1606\n",
    "\n",
    "generated_story = generate_text_trigram_with_fallback(model_rdd, start_word1, start_word2, num_words_to_generate)\n",
    "print(generated_story)\n"
   ]
  },
  {
   "cell_type": "code",
   "execution_count": 0,
   "metadata": {
    "application/vnd.databricks.v1+cell": {
     "cellMetadata": {
      "byteLimit": 2048000,
      "rowLimit": 10000
     },
     "inputWidgets": {},
     "nuid": "c1005bc4-5ce2-4ae3-8d1c-b29a4e63f6ad",
     "showTitle": false,
     "tableResultSettingsMap": {},
     "title": ""
    }
   },
   "outputs": [
    {
     "output_type": "stream",
     "name": "stdout",
     "output_type": "stream",
     "text": [
      "Reference has 1606 words \nGenerated has 1606 words\n"
     ]
    }
   ],
   "source": [
    "references = [word for line in reference_text for word in line.split()]\n",
    "generated = generated_story.split()\n",
    "\n",
    "print(f\"Reference has {len(references)} words \\nGenerated has {len(generated)} words\")"
   ]
  },
  {
   "cell_type": "markdown",
   "metadata": {
    "application/vnd.databricks.v1+cell": {
     "cellMetadata": {},
     "inputWidgets": {},
     "nuid": "c5994f28-7516-4b43-a3b8-d704a3928b63",
     "showTitle": false,
     "tableResultSettingsMap": {},
     "title": ""
    }
   },
   "source": [
    "the length of the generated and referenc text is the same, so I calculate BLEU score with the smoothing function. the smoothng function can be calculate using several methods. "
   ]
  },
  {
   "cell_type": "code",
   "execution_count": 0,
   "metadata": {
    "application/vnd.databricks.v1+cell": {
     "cellMetadata": {
      "byteLimit": 2048000,
      "rowLimit": 10000
     },
     "inputWidgets": {},
     "nuid": "17a46711-287f-4657-a9bc-04dc07e5ea6d",
     "showTitle": false,
     "tableResultSettingsMap": {},
     "title": ""
    }
   },
   "outputs": [
    {
     "output_type": "stream",
     "name": "stdout",
     "output_type": "stream",
     "text": [
      "Generated BLEU score: 8.17147163445869e-232\n"
     ]
    }
   ],
   "source": [
    "# Evaluate BLEU score - NO SMOOTHING FUNCTION\n",
    "references = [reference_text]\n",
    "generated = generated_story.split()\n",
    "\n",
    "score = corpus_bleu(references, [generated])\n",
    "print(\"Generated BLEU score:\", score)"
   ]
  },
  {
   "cell_type": "markdown",
   "metadata": {
    "application/vnd.databricks.v1+cell": {
     "cellMetadata": {},
     "inputWidgets": {},
     "nuid": "cdb9bacb-1e73-40a7-9434-05f2d7fb93ba",
     "showTitle": false,
     "tableResultSettingsMap": {},
     "title": ""
    }
   },
   "source": [
    "`Generated BLEU score:  8.17147163445869e-232`\n",
    "\n",
    "This is super low.\n",
    "Apply smoothing function. \n",
    "\n",
    "method1 helps avoid zero counts for n-grams that are missing in the candidate translation but appear in the reference translations.\n",
    "\n",
    "`Generated BLEU score: 0.0003146941887548595` - better result\n",
    "\n",
    "\n",
    "method2 uses a different smoothing strategy, which can involve adjusting the contribution of higher-order n-grams more effectively. In particular, it adjusts the penalty that would be applied for missing higher-order n-grams.  Good for cases where you expect fewer higher-order n-gram matches.\n",
    "\n",
    "`Generated BLEU score: 0.0017688284648976552` - even better"
   ]
  },
  {
   "cell_type": "code",
   "execution_count": 0,
   "metadata": {
    "application/vnd.databricks.v1+cell": {
     "cellMetadata": {
      "byteLimit": 2048000,
      "rowLimit": 10000
     },
     "inputWidgets": {},
     "nuid": "6b5a27f0-78ea-415c-8863-d23bf9ba13ae",
     "showTitle": false,
     "tableResultSettingsMap": {},
     "title": ""
    }
   },
   "outputs": [
    {
     "output_type": "stream",
     "name": "stdout",
     "output_type": "stream",
     "text": [
      "Generated BLEU score: 0.0003146941887548595\n"
     ]
    }
   ],
   "source": [
    "references = [reference_text]\n",
    "generated = generated_story.split()\n",
    "\n",
    "# Evaluate BLEU score\n",
    "smoothing_function = SmoothingFunction().method1\n",
    "score = corpus_bleu(references, [generated], smoothing_function=smoothing_function)\n",
    "print(\"Generated BLEU score:\", score)"
   ]
  },
  {
   "cell_type": "code",
   "execution_count": 0,
   "metadata": {
    "application/vnd.databricks.v1+cell": {
     "cellMetadata": {
      "byteLimit": 2048000,
      "rowLimit": 10000
     },
     "inputWidgets": {},
     "nuid": "16c99f87-7e42-4554-a94c-fe08fff4c0da",
     "showTitle": false,
     "tableResultSettingsMap": {},
     "title": ""
    }
   },
   "outputs": [
    {
     "output_type": "stream",
     "name": "stdout",
     "output_type": "stream",
     "text": [
      "Generated BLEU score: 0.0017688284648976552\n"
     ]
    }
   ],
   "source": [
    "references = [reference_text]\n",
    "generated = generated_story.split()\n",
    "\n",
    "# Evaluate BLEU score\n",
    "smoothing_function = SmoothingFunction().method2\n",
    "score = corpus_bleu(references, [generated], smoothing_function=smoothing_function)\n",
    "print(\"Generated BLEU score:\", score)"
   ]
  },
  {
   "cell_type": "markdown",
   "metadata": {
    "application/vnd.databricks.v1+cell": {
     "cellMetadata": {},
     "inputWidgets": {},
     "nuid": "7f5d6dd4-4413-4023-bca0-09e0f5695743",
     "showTitle": false,
     "tableResultSettingsMap": {},
     "title": ""
    }
   },
   "source": [
    "##Weighted Random Selection: Incorporating weighted probabilities, with fallbacks to bigrams and unigrams.\n",
    "\n",
    "In the following approach, weighted random selection is used to choose the next word in the generated text.\n",
    "\n",
    "####Weighted Random Selection\n",
    "The weight signifies the likelihood or probability of selecting that word.\n",
    "\n",
    "##### How Weights Are Calculated:\n",
    "For each trigram, bigram, or unigram, the weight of a word is determined by its frequency. Specifically:\n",
    "- In a trigram, the weight of a word is the count of its occurrences following the given word pair. For example, if `\"I like\"` is followed by `\"apples\"` 5 times in the text, `\"apples\"` will have a weight of 5.\n",
    "- This principle also applies to bigrams and unigrams, where the weight corresponds to the frequency of the word's occurrence.\n",
    "\n",
    "\n",
    "Words that appear more frequently with a given pair (in trigrams) or word (in unigrams) will have higher weights, making them more likely to be chosen.\n",
    "\n",
    "**Fallback:**\n",
    "\n",
    "If the trigram pair is not found, the same logic is applied to bigrams.\n",
    "When falling back to unigrams, weights are directly based on word frequencies."
   ]
  },
  {
   "cell_type": "code",
   "execution_count": 0,
   "metadata": {
    "application/vnd.databricks.v1+cell": {
     "cellMetadata": {
      "byteLimit": 2048000,
      "rowLimit": 10000
     },
     "inputWidgets": {},
     "nuid": "28ac73bd-75ec-452b-95a1-9dec1e5baf4b",
     "showTitle": false,
     "tableResultSettingsMap": {},
     "title": ""
    }
   },
   "outputs": [
    {
     "output_type": "stream",
     "name": "stdout",
     "output_type": "stream",
     "text": [
      "Out[8]: \"so you see mr harrison was really out of it but ranks of spruce the tinkles of sleigh bells and distant laughter, that seemed a few moments of it, said anne seriously i shall never forgive jane for not coming back to this astonishing change pupil still tablecloth sake put in the parlor, where a ladder up to the very thought of which he was a very different from avonlea the others what her feelings hurt it can’t be i want to do it of course, i had to stop quick, she’s better off as viciously as if, somehow, diana had ever been known to the house of dreams and grieves and rejoices and lives becomes inseparably connected with avonlea, and as she was a very wild set of boys, who were carrying gilbert blythe has to eat i know that it was a little boy and when i was reading it at all i know, said captain jim was the rev mr allan had finished his devotions he leaned back in the world and not just as soon as i would understand can’t you walk down to the island the last time i’ll be as dear to marilla’s heart with regard to the scholarship i decided to give a body could answer mrs barry indeed snapped marilla of all fairy tales to the east gable was a kindred spirit to answer the brooch is gone and that was why i had put that down to the sunset but in a stable it didn’t win the thorburn i don’t know what to do it she would have been a tragedy—a tragedy repeated miss cornelia had never seen that look as if she had a very bad temper ann shirley has a beau in avonlea, because he wouldn’t take it, murmured anne i want to be at the glen pond and the water was literally hemmed in by the time i was i’ve been—i may as well do i remember now that i was a thing but then, the woman he should have expected then he stopped for a little girl in the little house was not irreverence, but simply because she was a little too much people are always so new, too no spring is singing in the crisp fields and the next morning that old lady lloyd as she wandered over here as often as she had been a matter of this avenue of pinehursts and elmwolds and cedarcrofts ‘patty’s place,’ if you had to be good and kind and loving people wouldn’t twit me about the time i go to the kitchen to him i know it would be a good two hours for the last time i really think the most beautiful sight in the drive in spite of her spirit was much to me that it was a very different thing, said phil, coming in as when you have to do it all diana crawled up and down your back you’ll die of homesickness ever since i was born that way last winter and she’s never been able to do his work and one was to be a nice baby when she was a very handsome and clever two years older than his bible in one hand on her way of his, 'i’m very sorry that i had been a very sound of flying footsteps on the road and canvassed for subscriptions we got into the sea leslie sat with her hand to the little house she had exclaimed and she is making a brilliant complexion, and a very nice to be a minister, said felix simply had to be a good deal of difference where i was just an ordinary man after me it will be under your feet are clean and new enough to have a good deal of his time for granting her request for the rest of the fact that he had been a good chance what do you think it would be very careful of it, said anne he lifted his cap courteously, but he lives on the table and chatting over all that is why i shouldn’t be hard to be back next fall i imagined how perfectly lovely to be a burden on the floor and on the evening before the kingship of the room what a beautiful dream do you think that a very old fashioned my clothes are, and it is true that she was the right word to me that i did i’d seen her like a man who had been a very expressive face, anne your thoughts rove all over the dashboard grabbing at the time i was a very bad he was a very good teacher but i guess you did care i’ve deceived myself, that’s all there are others to do her sewing, and when i was a dismal failure when i got up and putting her kind old arms about her neck and kissing her wrinkled cheek affectionately you don’t seem to be a good deal about christine as she hemstitched table napkins industriously it’s time you came dancing along the harbor was to be seen on that account in the world he was a little girl not exactly a kindred spirit nothing more to do with the east gable and sat down by the beech—the perfumed ivory of white things, and i am sure i didn’t know him he would have been a very determined man and a little girl she cried, don’t go—don’t go—i’ll marry you—i’ll go anywhere—and i don’t want to go to the end of the old lady lloyd out to the kitchen, for his benefit but a child while i was a nice looking mannie who comes my way knocks them all to leave them there all day that it was a very handsome and clever two years have taught us she is making a good while yet (dv), so i hate skimpy night dresses but one can live with her when she was so greedy i’d sober her up with a sigh of supreme agony she could not be bad and unregenerate was could hardly overrate it if you were so far as i did and i can’t tell you how ashamed boys are of us did i just felt like a man in avonlea and he would never have dared to do i spin, finished philippa but i’ll have to be a stranger and an english earl and yet i want to be a very good subject, of course i do not like a phantom perfume, said owen such houses, must exert an influence which would have been a toothsome addition to society in four winds harbor of nearly a year before they make the best of all, miss shirley, ma’am i’m sure he never knew that it was the only time i got alonzo’s reply this morning and shoveling out the rich tints of her spirit with its old, perfect, sparkling clearness winds countless to marry me when i was a good chance of marriage but mrs spencer to bring him over from olden times asked anne seriously she had never thought of being a very good thing about the woods, and laughing and chattering gaily they did not look at the front door she wore it proudly she was so thorough and sudden on this is my duty to tell you about mr harrison was really a wonder there was a very good to be a good deal about serious subjects now, you know i meant to be a minister say it was really very interesting anyhow if people spoke out their amiable intentions but sloane was reading a book that was why i can’t tell you to sit up and have tea with me, but it doesn’t make any brief and fashionable wedding call she had not been for the first mate was at the door of the preceding evening but nothing can be and hold it in the middle of the whole story in school and kindled the fire, her wrath it was a matter of fact scotch common sense could not so bad about it moreover, when andrew cameron himself of course, but her father, some by her bed mrs murphy says she thinks it is my dear little heart she knew no one living human being that i ought to be married and he took three toads to bed and on the table and turned away from her, without one or two quilting parties, i suppose you have to go to the end of the yard as anne said no more of it but i don’t know what i would let her have her this very minute and i wouldn’t mind having one hat or none at all, said anne, with a rather pessimistic mood she slept the sleep of a girl and she’s never been able to make a necklace for playing elaine leslie mrs gets and solemnly, just said as sarcastic things to love it you know i never can anywhere else he could not have been a tragedy—a tragedy repeated miss cornelia i suppose it will be a crowd of willing victims who hovered around philippa’s conquering march through her tears as she talked and laughed at him, said marilla severely mr bell were not so quickly if it were a nice boy he’s not to do it again he told me to the point of view the operation is a lawyer there he exclaimed in chorus over it before everybody anne’s got plenty of chances for her to school to her feet and hands, anne could not have been so sure\""
     ]
    }
   ],
   "source": [
    "# Function to extract trigrams\n",
    "def function(paragraph):\n",
    "    list_words = paragraph.lower().split()\n",
    "    list_triples = []\n",
    "    previous1 = ''\n",
    "    previous2 = ''\n",
    "    \n",
    "    for item in list_words:\n",
    "        if previous1 and previous2:\n",
    "            list_triples.append((previous2, previous1, item))\n",
    "        previous2 = previous1\n",
    "        previous1 = item\n",
    "        \n",
    "    return list_triples\n",
    "\n",
    "# Apply function to create trigrams\n",
    "word_triples_rdd = cleaned_rdd.flatMap(function)\n",
    "\n",
    "# Create trigram model\n",
    "model_rdd = word_triples_rdd.map(lambda triple: ((triple[0], triple[1]), triple[2])).groupByKey().mapValues(list)\n",
    "\n",
    "# Create bigram model\n",
    "bigram_rdd = word_triples_rdd.map(lambda triple: (triple[:2], triple[2])).groupByKey().mapValues(list)\n",
    "\n",
    "# Create unigram model\n",
    "unigram_rdd = cleaned_rdd.flatMap(lambda x: x.lower().split()).map(lambda word: (word, 1)).reduceByKey(lambda a, b: a + b)\n",
    "\n",
    "import random\n",
    "\n",
    "def weighted_choice(choices):\n",
    "    words, weights = zip(*choices)\n",
    "    return random.choices(words, weights=weights, k=1)[0]\n",
    "\n",
    "\n",
    "def generate_text_trigram_with_fallback(model_rdd, bigram_rdd, unigram_rdd, start_word1, start_word2, num_words, fallback_word=\"the\"):\n",
    "    markov_dict = model_rdd.collectAsMap()\n",
    "    bigram_dict = bigram_rdd.collectAsMap()\n",
    "    unigram_dict = unigram_rdd.collectAsMap()\n",
    "    \n",
    "    # Prepare unigram weights for fallback\n",
    "    unigram_weights = [(word, count) for word, count in unigram_dict.items()]\n",
    "    \n",
    "    current_word1 = start_word1\n",
    "    current_word2 = start_word2\n",
    "    generated_text = [current_word1, current_word2]\n",
    "\n",
    "    for _ in range(num_words - 2):\n",
    "        if (current_word1, current_word2) in markov_dict and markov_dict[(current_word1, current_word2)]:\n",
    "            next_word = weighted_choice([(word, markov_dict[(current_word1, current_word2)].count(word)) \n",
    "                                         for word in markov_dict[(current_word1, current_word2)]])\n",
    "        elif (current_word1, current_word2) in bigram_dict and bigram_dict[(current_word1, current_word2)]:\n",
    "            next_word = weighted_choice([(word, bigram_dict[(current_word1, current_word2)].count(word)) \n",
    "                                         for word in bigram_dict[(current_word1, current_word2)]])\n",
    "        elif unigram_weights:\n",
    "            next_word = weighted_choice(unigram_weights)\n",
    "        else:\n",
    "            next_word = fallback_word  # Use the fallback word if no transitions are available\n",
    "\n",
    "        generated_text.append(next_word)\n",
    "        current_word1, current_word2 = current_word2, next_word  # Move to the next pair\n",
    "\n",
    "    return ' '.join(generated_text)\n",
    "\n",
    "\n",
    "start_word1 = \"so\"\n",
    "start_word2 = \"you\"\n",
    "num_words_to_generate = 1606\n",
    "\n",
    "generated_story = generate_text_trigram_with_fallback(model_rdd, bigram_rdd, unigram_rdd, start_word1, start_word2, num_words_to_generate)\n",
    "generated_story\n"
   ]
  },
  {
   "cell_type": "code",
   "execution_count": 0,
   "metadata": {
    "application/vnd.databricks.v1+cell": {
     "cellMetadata": {
      "byteLimit": 2048000,
      "rowLimit": 10000
     },
     "inputWidgets": {},
     "nuid": "f5aaf3cb-bdbc-44db-a934-0fba355bc9b3",
     "showTitle": false,
     "tableResultSettingsMap": {},
     "title": ""
    }
   },
   "outputs": [
    {
     "output_type": "stream",
     "name": "stdout",
     "output_type": "stream",
     "text": [
      "Generated BLEU score: 0.001907998581067857\n"
     ]
    }
   ],
   "source": [
    "# Evaluate BLEU score\n",
    "references = [reference_text]\n",
    "generated = generated_story.split()\n",
    "\n",
    "smoothing_function = SmoothingFunction().method2\n",
    "score = corpus_bleu(references, [generated], smoothing_function=smoothing_function)\n",
    "print(\"Generated BLEU score:\", score)"
   ]
  },
  {
   "cell_type": "markdown",
   "metadata": {
    "application/vnd.databricks.v1+cell": {
     "cellMetadata": {},
     "inputWidgets": {},
     "nuid": "1bd686ca-9bc0-48fa-865e-9fcaa0a567bc",
     "showTitle": false,
     "tableResultSettingsMap": {},
     "title": ""
    }
   },
   "source": [
    "`Generated BLEU score: 0.001907998581067857` is the best result so far. \n",
    "\n",
    "One last adjustment will be done. "
   ]
  },
  {
   "cell_type": "markdown",
   "metadata": {
    "application/vnd.databricks.v1+cell": {
     "cellMetadata": {},
     "inputWidgets": {},
     "nuid": "96ad3472-4095-4d81-a0de-6b51fd875014",
     "showTitle": false,
     "tableResultSettingsMap": {},
     "title": ""
    }
   },
   "source": [
    "##Final Version\n",
    "\n",
    "**Counter**:  This time I use Python's `Counter` to precompute and store word frequencies, which is better for large datasets. \n",
    "\n",
    "**Fallback to reference text**: If neither trigram nor bigram predictions are available, the model uses words from the reference text as a fallback. This allows the generated text remains stylistically similar by using simmilar words to the reference material.\n",
    "\n",
    "\n",
    "-----------\n",
    "\n",
    "####The final BLEU Score is:\n",
    "`Generated BLEU score: 0.0020444282652433286` - which is the best result at this point.\n"
   ]
  },
  {
   "cell_type": "code",
   "execution_count": 0,
   "metadata": {
    "application/vnd.databricks.v1+cell": {
     "cellMetadata": {
      "byteLimit": 2048000,
      "rowLimit": 10000
     },
     "inputWidgets": {},
     "nuid": "32f957d6-05e7-4bad-8fc9-cafd56e9e3d1",
     "showTitle": false,
     "tableResultSettingsMap": {},
     "title": ""
    }
   },
   "outputs": [
    {
     "output_type": "stream",
     "name": "stdout",
     "output_type": "stream",
     "text": [
      "Out[19]: \"so you may be all right—i’m not frivolous at heart she’s young and fair in silk attire, a short, stout gray haired lady in pink silk waist with a strange solemnity about the pudding sauce again and i had heard lately from gilbert, but passed her hard work to use a slang term, have any spare saturday afternoons at the foot, and as usual that night of their first approach to a girl once—went to school the first few weeks i wouldn’t likely find married life as dick’s wife i reckon i’m thankful she did—i prayed that stephen irving paul’s father stephen irving came forward beamingly, with outstretched hand and dragging me along with his head his face somehow, anne, i just rushed over like this and i saved his life, was it you must be even better some day if i have been read at your house come on friday, said marilla crossly yes, you can eat any hour and which the old lady sadly but you can go with her, but it looks to the square, deep set window from out the avis last friday morning i was that, she felt, with an e i shall give you one too far away—to show me your ears the girls were gracious, and said in a balloon, marilla it is worth living through them that if i give it one of those snakes i have longed to fall into the sitting room, and still and i shall always be pointed at as the last redmond year opens of your hair, i said nancy complacently modern methods of diet we eat all my characters talk everyday english and english literature would win i didn’t want to do with the weapons he had an alabaster brow what is an uncommon day now, and not give him when he arrives in the world that had fallen on the table she told herself, the time but this freckled witch was very glad my garden was a little of it, said davy, but i couldn’t leave her that very minute and offered her a cluster of crimson roses she wore a tight, black, cashmere dress, made in my household shall ever go to school nearly every evening now, at patty’s place for convocation she had found nobody either, for marilla was not much hope that some day she came to the cage but i put that mouse in my household shall ever find her so she could lie in bed every day rusty and joseph fought at sight of the occasion, said anne calmly and deliberately decided to spend the evening she went over to the general pleasantness of friday evenings he seemed to hover around her wistfully the whitewashed walls were as different in appearance as they rambled in the porch, where barbara shaw, in an envelope, and address she went on this gravestone and get into scrapes or are not wanted—where they will fence in the hall and laid her splendid golden head against your sixteen, retorted eliza going, are you in a spare room bed—but not the slightest intention of taking them home to us it is even possible that the doctor himself is as strong as mine it all with the gray rain would stop crying i could, she said she understood the subtle compliment implied therein if she waited for it when it grips me hard, 'you’ve got a calling down she’s so set on it—why, i don’t mean you shall be so perfect busy eleven between is trick if he were young again, with unspoiled life before it the place of ‘yours respectfully,’ shouldn’t i—the way the ministers would think of it all, was a soul in avonlea school always enjoyed a variety of green that brought out every leaf and twig in dark, tremulous, elfin loveliness perhaps wife paul’s their until fell out of the world would be about seventy and the joy of living to teach me to ‘try again’ well, the over harbor the sound drifted over them they’re equally nice at i shall love redmond and i told him 157 and there she seems good and made the place moody spurgeon had never expected to keep away from the garret of green gables, when the harbor ice with him nancy felt wretched—and, at the same unconscious respect and deference which her father would not be able to, with that dog of yours is lovely relate, certainly it is such a delicate compliment, don’t you weep with those bright old black eyes and that, together with layers of ruby gillis, and they had visited or some interesting thing or person they had long ceased to be called friendship existed and always wants little girls as if she could not sew any more orphans concealed hereabouts sinner miss i’m the only question is—will the time came and went into it it’ll soon not be what ’ve been used to think it’s all very strange coincidence diana is the trouble is we can’t cheer miss lavendar could possibly be it from me to give you a message about the brooch if she’ll lend it for a building, especially when combined with a sheaf of bluebells the dark lane was a great improvement in this instance it was that the old man shaw liked to have much pleasure she wondered a little more time to walk from the kitchen anne caught him hanging over the head but what would we do not know that i want to go for the first door i darsn’t smoke a pipe for my own little mother, said janet in bewilderment this isn’t the holy passion of sobs that appalled her when anne came back before supper time—if then richard his rachel what and you’ll come down to mrs lynde asking the minister didn’t approve of him, reiterated davy dora him course years you other and compare damages the roads broken than they had consented to call on old as i might as well as matthew and she felt rather dazed and bewildered, quite incapable of expressing it, we’d find out about it was horrid eliza, keith the nothing to eat, not even going to be mixed up while the iron was hot, went up to a girl—a strange girl—an orphan girl—and demand of her old chum’s happiness and sorrow here she was terribly mortified about the bush, pa she demanded, with contemptuous pity you haven’t told anybody but herself she valued people only as they walked home together and we had to stop talking if that’s so i’ll not be before she left him because i thought you’d be excited, too, if you would call it somebody else and couldn’t get over it—and i don’t believe it was certain and aline would never do it again, whatever it is man, man, what blinds you you are thinking seriously of promising each other two around by spofford avenue, that they understood each other on the rustic seat put under the runners there was nothing but just before she left them here and there, or wait till i’m as good as falsehood i want to be published next fall i felt nobody could believe that providence ever works by means of bringing him home with a cherub’s head many are prostrate and in vain anne pleaded eloquently against his principles you had on in the hazel dell’ she’s going to be married, miss cornelia, who made the mistake of saying that she never would before for fear the name of the house, and she hoped my strength of mind the rest of the house worried her, it smote upon and incarnadined the shining, luxurious office where andrew cameron out of her as with poor butterfly ruby when she sat breathlessly down from the kitchen sofa, and dashed up emmeline’s garret stairs and somebody entered the crowded parlor together a little shudder, probably as caterpillary, as ever there’s such a thing, even though she was a terrible worker and i’ve never been to bid on anything without her, although she had twins three times when everything about it—the garden she arranged her picture cards in her life, hovered over it, like a red, red rose jane’s is an orchard when she found a pile of letters on real note paper, seal them up close, believe me, and it’s so plain i just turned on his back and inquire for the west and north windows was broken up by idlewild it creeps up behind you we all know we’ll have the very feet of manhood be the most disagreeable things it’s wrong to go up town and would always be your duty to take the girls set in we’ll 'tak a cup filled with the girl’s beauty and blessing of sacred yesterdays anne paused to throw me over to the improvers meant to make a very important to tell leslie and susan said, ‘yes—no—i don’t know—let me see’—and there they did, however, in due time came, to address his loyal supporters and such pink cheeks—real wild rose bushes your grandfather was my brother, went on being there, so anne, being in love with each other that we see how you behave yourselves, she warned them that he must say to mrs lynde stayed with me and dora keith until they turned into the world and more than parting with diana more than is good and noble than yours i’m letting you tell me can you help me that same mrs roderick was a little of it i always did think i’d like to see the sudden stab of fear and frenzy were going\""
     ]
    }
   ],
   "source": [
    "from collections import Counter\n",
    "\n",
    "# Create trigram model with precomputed weights\n",
    "model_rdd = word_triples_rdd.map(lambda triple: ((triple[0], triple[1]), triple[2])) \\\n",
    "                            .groupByKey() \\\n",
    "                            .mapValues(lambda words: Counter(words))\n",
    "\n",
    "# Create bigram model with precomputed weights\n",
    "bigram_rdd = word_triples_rdd.map(lambda triple: (triple[:2], triple[2])) \\\n",
    "                             .groupByKey() \\\n",
    "                             .mapValues(lambda words: Counter(words))\n",
    "\n",
    "# Function for weighted random selection\n",
    "def weighted_choice(weighted_dict):\n",
    "    words, weights = zip(*weighted_dict.items())\n",
    "    return random.choices(words, weights=weights, k=1)[0]\n",
    "\n",
    "# Function to generate text with fallback\n",
    "def generate_text_trigram_with_fallback(model_rdd, bigram_rdd, references, start_word1, start_word2, num_words):\n",
    "    markov_dict = model_rdd.collectAsMap()  # Trigram dictionary with weights\n",
    "    bigram_dict = bigram_rdd.collectAsMap()  # Bigram dictionary with weights\n",
    "\n",
    "    reference_weights = Counter(references)\n",
    "\n",
    "    current_word1 = start_word1\n",
    "    current_word2 = start_word2\n",
    "    generated_text = [current_word1, current_word2]\n",
    "\n",
    "    for _ in range(num_words - 2):\n",
    "        # Trigram case\n",
    "        if (current_word1, current_word2) in markov_dict and markov_dict[(current_word1, current_word2)]:\n",
    "            next_word = weighted_choice(markov_dict[(current_word1, current_word2)])\n",
    "        # Bigram fallback\n",
    "        elif (current_word1, current_word2) in bigram_dict and bigram_dict[(current_word1, current_word2)]:\n",
    "            next_word = weighted_choice(bigram_dict[(current_word1, current_word2)])\n",
    "        # Reference text fallback\n",
    "        else:\n",
    "            next_word = weighted_choice(reference_weights)\n",
    "\n",
    "        generated_text.append(next_word)\n",
    "        current_word1, current_word2 = current_word2, next_word  # Move to the next pair\n",
    "\n",
    "    return ' '.join(generated_text)\n",
    "\n",
    "start_word1 = \"so\"\n",
    "start_word2 = \"you\"\n",
    "num_words_to_generate = 1606\n",
    "\n",
    "generated_story = generate_text_trigram_with_fallback(model_rdd, bigram_rdd, references, start_word1, start_word2, num_words_to_generate)\n",
    "\n",
    "generated_story\n"
   ]
  },
  {
   "cell_type": "code",
   "execution_count": 0,
   "metadata": {
    "application/vnd.databricks.v1+cell": {
     "cellMetadata": {
      "byteLimit": 2048000,
      "rowLimit": 10000
     },
     "inputWidgets": {},
     "nuid": "c5ace13a-0290-4a6d-bd83-6991a8b093af",
     "showTitle": false,
     "tableResultSettingsMap": {},
     "title": ""
    }
   },
   "outputs": [
    {
     "output_type": "stream",
     "name": "stdout",
     "output_type": "stream",
     "text": [
      "Generated BLEU score: 0.0020444282652433286\n"
     ]
    }
   ],
   "source": [
    "# Evaluate BLEU score\n",
    "references = [reference_text]\n",
    "generated = generated_story.split()\n",
    "\n",
    "smoothing_function = SmoothingFunction().method2\n",
    "score = corpus_bleu(references, [generated], smoothing_function=smoothing_function)\n",
    "print(\"Generated BLEU score:\", score)"
   ]
  },
  {
   "cell_type": "markdown",
   "metadata": {
    "application/vnd.databricks.v1+cell": {
     "cellMetadata": {},
     "inputWidgets": {},
     "nuid": "2eba2a63-59b6-4a7f-91cc-6eeb51373686",
     "showTitle": false,
     "tableResultSettingsMap": {},
     "title": ""
    }
   },
   "source": [
    "**Aleksandra Graczyk**\n",
    "\n",
    "SGH\n",
    "\n",
    "Advanced Analytics - Big Data"
   ]
  }
 ],
 "metadata": {
  "application/vnd.databricks.v1+notebook": {
   "computePreferences": null,
   "dashboards": [],
   "environmentMetadata": null,
   "language": "python",
   "notebookMetadata": {
    "pythonIndentUnit": 4
   },
   "notebookName": "Project",
   "widgets": {}
  }
 },
 "nbformat": 4,
 "nbformat_minor": 0
}
